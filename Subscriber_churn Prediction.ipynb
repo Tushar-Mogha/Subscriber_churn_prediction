{
 "cells": [
  {
   "cell_type": "code",
   "execution_count": 82,
   "id": "85e1a7c0-e204-492b-a1a7-ef1badb4bd35",
   "metadata": {},
   "outputs": [],
   "source": [
    "import numpy as np\n",
    "import pandas as pd"
   ]
  },
  {
   "cell_type": "code",
   "execution_count": 10,
   "id": "4cd29481-76b3-499d-a587-1f14fc7f12eb",
   "metadata": {},
   "outputs": [
    {
     "name": "stdout",
     "output_type": "stream",
     "text": [
      "Requirement already satisfied: openpyxl in d:\\anaconda\\lib\\site-packages (3.1.5)\n",
      "Requirement already satisfied: et-xmlfile in d:\\anaconda\\lib\\site-packages (from openpyxl) (1.1.0)\n"
     ]
    }
   ],
   "source": [
    "!pip install openpyxl"
   ]
  },
  {
   "cell_type": "code",
   "execution_count": 11,
   "id": "a9593589-f6fb-4bb4-ab72-6207e86f91d3",
   "metadata": {},
   "outputs": [],
   "source": [
    "df=pd.read_excel(\"telecom_churn.xlsx\")"
   ]
  },
  {
   "cell_type": "code",
   "execution_count": 12,
   "id": "84eb33d3-080f-422b-abe4-d3b30efbe658",
   "metadata": {},
   "outputs": [
    {
     "name": "stdout",
     "output_type": "stream",
     "text": [
      "Shape of data:  (243553, 14)\n"
     ]
    }
   ],
   "source": [
    "print(\"Shape of data: \",df.shape)"
   ]
  },
  {
   "cell_type": "code",
   "execution_count": 13,
   "id": "6f65659e-31e5-4a75-88b5-0cf7c33d26ab",
   "metadata": {},
   "outputs": [
    {
     "data": {
      "text/html": [
       "<div>\n",
       "<style scoped>\n",
       "    .dataframe tbody tr th:only-of-type {\n",
       "        vertical-align: middle;\n",
       "    }\n",
       "\n",
       "    .dataframe tbody tr th {\n",
       "        vertical-align: top;\n",
       "    }\n",
       "\n",
       "    .dataframe thead th {\n",
       "        text-align: right;\n",
       "    }\n",
       "</style>\n",
       "<table border=\"1\" class=\"dataframe\">\n",
       "  <thead>\n",
       "    <tr style=\"text-align: right;\">\n",
       "      <th></th>\n",
       "      <th>customer_id</th>\n",
       "      <th>telecom_partner</th>\n",
       "      <th>gender</th>\n",
       "      <th>age</th>\n",
       "      <th>state</th>\n",
       "      <th>city</th>\n",
       "      <th>pincode</th>\n",
       "      <th>date_of_registration</th>\n",
       "      <th>num_dependents</th>\n",
       "      <th>estimated_salary</th>\n",
       "      <th>calls_made</th>\n",
       "      <th>sms_sent</th>\n",
       "      <th>data_used</th>\n",
       "      <th>churn</th>\n",
       "    </tr>\n",
       "  </thead>\n",
       "  <tbody>\n",
       "    <tr>\n",
       "      <th>0</th>\n",
       "      <td>1</td>\n",
       "      <td>Reliance Jio</td>\n",
       "      <td>F</td>\n",
       "      <td>25</td>\n",
       "      <td>Karnataka</td>\n",
       "      <td>Kolkata</td>\n",
       "      <td>755597</td>\n",
       "      <td>2020-01-01</td>\n",
       "      <td>4</td>\n",
       "      <td>124962</td>\n",
       "      <td>44</td>\n",
       "      <td>45</td>\n",
       "      <td>-361</td>\n",
       "      <td>0</td>\n",
       "    </tr>\n",
       "    <tr>\n",
       "      <th>1</th>\n",
       "      <td>2</td>\n",
       "      <td>Reliance Jio</td>\n",
       "      <td>F</td>\n",
       "      <td>55</td>\n",
       "      <td>Mizoram</td>\n",
       "      <td>Mumbai</td>\n",
       "      <td>125926</td>\n",
       "      <td>2020-01-01</td>\n",
       "      <td>2</td>\n",
       "      <td>130556</td>\n",
       "      <td>62</td>\n",
       "      <td>39</td>\n",
       "      <td>5973</td>\n",
       "      <td>0</td>\n",
       "    </tr>\n",
       "    <tr>\n",
       "      <th>2</th>\n",
       "      <td>3</td>\n",
       "      <td>Vodafone</td>\n",
       "      <td>F</td>\n",
       "      <td>57</td>\n",
       "      <td>Arunachal Pradesh</td>\n",
       "      <td>Delhi</td>\n",
       "      <td>423976</td>\n",
       "      <td>2020-01-01</td>\n",
       "      <td>0</td>\n",
       "      <td>148828</td>\n",
       "      <td>49</td>\n",
       "      <td>24</td>\n",
       "      <td>193</td>\n",
       "      <td>1</td>\n",
       "    </tr>\n",
       "    <tr>\n",
       "      <th>3</th>\n",
       "      <td>4</td>\n",
       "      <td>BSNL</td>\n",
       "      <td>M</td>\n",
       "      <td>46</td>\n",
       "      <td>Tamil Nadu</td>\n",
       "      <td>Kolkata</td>\n",
       "      <td>522841</td>\n",
       "      <td>2020-01-01</td>\n",
       "      <td>1</td>\n",
       "      <td>38722</td>\n",
       "      <td>80</td>\n",
       "      <td>25</td>\n",
       "      <td>9377</td>\n",
       "      <td>1</td>\n",
       "    </tr>\n",
       "    <tr>\n",
       "      <th>4</th>\n",
       "      <td>5</td>\n",
       "      <td>BSNL</td>\n",
       "      <td>F</td>\n",
       "      <td>26</td>\n",
       "      <td>Tripura</td>\n",
       "      <td>Delhi</td>\n",
       "      <td>740247</td>\n",
       "      <td>2020-01-01</td>\n",
       "      <td>2</td>\n",
       "      <td>55098</td>\n",
       "      <td>78</td>\n",
       "      <td>15</td>\n",
       "      <td>1393</td>\n",
       "      <td>0</td>\n",
       "    </tr>\n",
       "    <tr>\n",
       "      <th>5</th>\n",
       "      <td>6</td>\n",
       "      <td>Vodafone</td>\n",
       "      <td>M</td>\n",
       "      <td>36</td>\n",
       "      <td>Uttarakhand</td>\n",
       "      <td>Chennai</td>\n",
       "      <td>120612</td>\n",
       "      <td>2020-01-01</td>\n",
       "      <td>1</td>\n",
       "      <td>73452</td>\n",
       "      <td>91</td>\n",
       "      <td>24</td>\n",
       "      <td>8109</td>\n",
       "      <td>0</td>\n",
       "    </tr>\n",
       "    <tr>\n",
       "      <th>6</th>\n",
       "      <td>7</td>\n",
       "      <td>BSNL</td>\n",
       "      <td>F</td>\n",
       "      <td>60</td>\n",
       "      <td>Karnataka</td>\n",
       "      <td>Delhi</td>\n",
       "      <td>609616</td>\n",
       "      <td>2020-01-01</td>\n",
       "      <td>1</td>\n",
       "      <td>110035</td>\n",
       "      <td>36</td>\n",
       "      <td>13</td>\n",
       "      <td>8512</td>\n",
       "      <td>0</td>\n",
       "    </tr>\n",
       "    <tr>\n",
       "      <th>7</th>\n",
       "      <td>8</td>\n",
       "      <td>BSNL</td>\n",
       "      <td>M</td>\n",
       "      <td>46</td>\n",
       "      <td>Arunachal Pradesh</td>\n",
       "      <td>Kolkata</td>\n",
       "      <td>866786</td>\n",
       "      <td>2020-01-01</td>\n",
       "      <td>4</td>\n",
       "      <td>104541</td>\n",
       "      <td>87</td>\n",
       "      <td>40</td>\n",
       "      <td>2245</td>\n",
       "      <td>1</td>\n",
       "    </tr>\n",
       "    <tr>\n",
       "      <th>8</th>\n",
       "      <td>9</td>\n",
       "      <td>Reliance Jio</td>\n",
       "      <td>F</td>\n",
       "      <td>53</td>\n",
       "      <td>Himachal Pradesh</td>\n",
       "      <td>Mumbai</td>\n",
       "      <td>765257</td>\n",
       "      <td>2020-01-01</td>\n",
       "      <td>2</td>\n",
       "      <td>79439</td>\n",
       "      <td>34</td>\n",
       "      <td>12</td>\n",
       "      <td>10039</td>\n",
       "      <td>0</td>\n",
       "    </tr>\n",
       "    <tr>\n",
       "      <th>9</th>\n",
       "      <td>10</td>\n",
       "      <td>BSNL</td>\n",
       "      <td>F</td>\n",
       "      <td>57</td>\n",
       "      <td>Rajasthan</td>\n",
       "      <td>Mumbai</td>\n",
       "      <td>506308</td>\n",
       "      <td>2020-01-01</td>\n",
       "      <td>0</td>\n",
       "      <td>126422</td>\n",
       "      <td>61</td>\n",
       "      <td>33</td>\n",
       "      <td>567</td>\n",
       "      <td>0</td>\n",
       "    </tr>\n",
       "  </tbody>\n",
       "</table>\n",
       "</div>"
      ],
      "text/plain": [
       "   customer_id telecom_partner gender  age              state     city  \\\n",
       "0            1    Reliance Jio      F   25          Karnataka  Kolkata   \n",
       "1            2    Reliance Jio      F   55            Mizoram   Mumbai   \n",
       "2            3        Vodafone      F   57  Arunachal Pradesh    Delhi   \n",
       "3            4            BSNL      M   46         Tamil Nadu  Kolkata   \n",
       "4            5            BSNL      F   26            Tripura    Delhi   \n",
       "5            6        Vodafone      M   36        Uttarakhand  Chennai   \n",
       "6            7            BSNL      F   60          Karnataka    Delhi   \n",
       "7            8            BSNL      M   46  Arunachal Pradesh  Kolkata   \n",
       "8            9    Reliance Jio      F   53   Himachal Pradesh   Mumbai   \n",
       "9           10            BSNL      F   57          Rajasthan   Mumbai   \n",
       "\n",
       "   pincode date_of_registration  num_dependents  estimated_salary  calls_made  \\\n",
       "0   755597           2020-01-01               4            124962          44   \n",
       "1   125926           2020-01-01               2            130556          62   \n",
       "2   423976           2020-01-01               0            148828          49   \n",
       "3   522841           2020-01-01               1             38722          80   \n",
       "4   740247           2020-01-01               2             55098          78   \n",
       "5   120612           2020-01-01               1             73452          91   \n",
       "6   609616           2020-01-01               1            110035          36   \n",
       "7   866786           2020-01-01               4            104541          87   \n",
       "8   765257           2020-01-01               2             79439          34   \n",
       "9   506308           2020-01-01               0            126422          61   \n",
       "\n",
       "   sms_sent  data_used  churn  \n",
       "0        45       -361      0  \n",
       "1        39       5973      0  \n",
       "2        24        193      1  \n",
       "3        25       9377      1  \n",
       "4        15       1393      0  \n",
       "5        24       8109      0  \n",
       "6        13       8512      0  \n",
       "7        40       2245      1  \n",
       "8        12      10039      0  \n",
       "9        33        567      0  "
      ]
     },
     "execution_count": 13,
     "metadata": {},
     "output_type": "execute_result"
    }
   ],
   "source": [
    "df.head(10)"
   ]
  },
  {
   "cell_type": "code",
   "execution_count": 14,
   "id": "ff52a781-1222-450d-a401-fd1a776650e2",
   "metadata": {},
   "outputs": [
    {
     "name": "stdout",
     "output_type": "stream",
     "text": [
      "<class 'pandas.core.frame.DataFrame'>\n",
      "RangeIndex: 243553 entries, 0 to 243552\n",
      "Data columns (total 14 columns):\n",
      " #   Column                Non-Null Count   Dtype         \n",
      "---  ------                --------------   -----         \n",
      " 0   customer_id           243553 non-null  int64         \n",
      " 1   telecom_partner       243553 non-null  object        \n",
      " 2   gender                243553 non-null  object        \n",
      " 3   age                   243553 non-null  int64         \n",
      " 4   state                 243553 non-null  object        \n",
      " 5   city                  243553 non-null  object        \n",
      " 6   pincode               243553 non-null  int64         \n",
      " 7   date_of_registration  243553 non-null  datetime64[ns]\n",
      " 8   num_dependents        243553 non-null  int64         \n",
      " 9   estimated_salary      243553 non-null  int64         \n",
      " 10  calls_made            243553 non-null  int64         \n",
      " 11  sms_sent              243553 non-null  int64         \n",
      " 12  data_used             243553 non-null  int64         \n",
      " 13  churn                 243553 non-null  int64         \n",
      "dtypes: datetime64[ns](1), int64(9), object(4)\n",
      "memory usage: 26.0+ MB\n"
     ]
    }
   ],
   "source": [
    "df.info()"
   ]
  },
  {
   "cell_type": "code",
   "execution_count": 15,
   "id": "8bf2f00e-b4d2-46da-b840-f7bb2ae9f8ff",
   "metadata": {},
   "outputs": [
    {
     "data": {
      "text/html": [
       "<div>\n",
       "<style scoped>\n",
       "    .dataframe tbody tr th:only-of-type {\n",
       "        vertical-align: middle;\n",
       "    }\n",
       "\n",
       "    .dataframe tbody tr th {\n",
       "        vertical-align: top;\n",
       "    }\n",
       "\n",
       "    .dataframe thead th {\n",
       "        text-align: right;\n",
       "    }\n",
       "</style>\n",
       "<table border=\"1\" class=\"dataframe\">\n",
       "  <thead>\n",
       "    <tr style=\"text-align: right;\">\n",
       "      <th></th>\n",
       "      <th>customer_id</th>\n",
       "      <th>age</th>\n",
       "      <th>pincode</th>\n",
       "      <th>date_of_registration</th>\n",
       "      <th>num_dependents</th>\n",
       "      <th>estimated_salary</th>\n",
       "      <th>calls_made</th>\n",
       "      <th>sms_sent</th>\n",
       "      <th>data_used</th>\n",
       "      <th>churn</th>\n",
       "    </tr>\n",
       "  </thead>\n",
       "  <tbody>\n",
       "    <tr>\n",
       "      <th>count</th>\n",
       "      <td>243553.000000</td>\n",
       "      <td>243553.000000</td>\n",
       "      <td>243553.000000</td>\n",
       "      <td>243553</td>\n",
       "      <td>243553.000000</td>\n",
       "      <td>243553.000000</td>\n",
       "      <td>243553.000000</td>\n",
       "      <td>243553.000000</td>\n",
       "      <td>243553.000000</td>\n",
       "      <td>243553.000000</td>\n",
       "    </tr>\n",
       "    <tr>\n",
       "      <th>mean</th>\n",
       "      <td>121777.000000</td>\n",
       "      <td>46.077609</td>\n",
       "      <td>549501.270541</td>\n",
       "      <td>2021-09-01 00:00:00.354748416</td>\n",
       "      <td>1.997500</td>\n",
       "      <td>85021.137839</td>\n",
       "      <td>49.010548</td>\n",
       "      <td>23.945404</td>\n",
       "      <td>4993.186025</td>\n",
       "      <td>0.200478</td>\n",
       "    </tr>\n",
       "    <tr>\n",
       "      <th>min</th>\n",
       "      <td>1.000000</td>\n",
       "      <td>18.000000</td>\n",
       "      <td>100006.000000</td>\n",
       "      <td>2020-01-01 00:00:00</td>\n",
       "      <td>0.000000</td>\n",
       "      <td>20000.000000</td>\n",
       "      <td>-10.000000</td>\n",
       "      <td>-5.000000</td>\n",
       "      <td>-987.000000</td>\n",
       "      <td>0.000000</td>\n",
       "    </tr>\n",
       "    <tr>\n",
       "      <th>25%</th>\n",
       "      <td>60889.000000</td>\n",
       "      <td>32.000000</td>\n",
       "      <td>324586.000000</td>\n",
       "      <td>2020-10-31 00:00:00</td>\n",
       "      <td>1.000000</td>\n",
       "      <td>52585.000000</td>\n",
       "      <td>24.000000</td>\n",
       "      <td>11.000000</td>\n",
       "      <td>2490.000000</td>\n",
       "      <td>0.000000</td>\n",
       "    </tr>\n",
       "    <tr>\n",
       "      <th>50%</th>\n",
       "      <td>121777.000000</td>\n",
       "      <td>46.000000</td>\n",
       "      <td>548112.000000</td>\n",
       "      <td>2021-09-01 00:00:00</td>\n",
       "      <td>2.000000</td>\n",
       "      <td>84990.000000</td>\n",
       "      <td>49.000000</td>\n",
       "      <td>24.000000</td>\n",
       "      <td>4987.000000</td>\n",
       "      <td>0.000000</td>\n",
       "    </tr>\n",
       "    <tr>\n",
       "      <th>75%</th>\n",
       "      <td>182665.000000</td>\n",
       "      <td>60.000000</td>\n",
       "      <td>774994.000000</td>\n",
       "      <td>2022-07-03 00:00:00</td>\n",
       "      <td>3.000000</td>\n",
       "      <td>117488.000000</td>\n",
       "      <td>74.000000</td>\n",
       "      <td>36.000000</td>\n",
       "      <td>7493.000000</td>\n",
       "      <td>0.000000</td>\n",
       "    </tr>\n",
       "    <tr>\n",
       "      <th>max</th>\n",
       "      <td>243553.000000</td>\n",
       "      <td>74.000000</td>\n",
       "      <td>999987.000000</td>\n",
       "      <td>2023-05-04 00:00:00</td>\n",
       "      <td>4.000000</td>\n",
       "      <td>149999.000000</td>\n",
       "      <td>108.000000</td>\n",
       "      <td>53.000000</td>\n",
       "      <td>10991.000000</td>\n",
       "      <td>1.000000</td>\n",
       "    </tr>\n",
       "    <tr>\n",
       "      <th>std</th>\n",
       "      <td>70307.839393</td>\n",
       "      <td>16.444029</td>\n",
       "      <td>259808.860574</td>\n",
       "      <td>NaN</td>\n",
       "      <td>1.414941</td>\n",
       "      <td>37508.963233</td>\n",
       "      <td>29.453556</td>\n",
       "      <td>14.733575</td>\n",
       "      <td>2942.019547</td>\n",
       "      <td>0.400359</td>\n",
       "    </tr>\n",
       "  </tbody>\n",
       "</table>\n",
       "</div>"
      ],
      "text/plain": [
       "         customer_id            age        pincode  \\\n",
       "count  243553.000000  243553.000000  243553.000000   \n",
       "mean   121777.000000      46.077609  549501.270541   \n",
       "min         1.000000      18.000000  100006.000000   \n",
       "25%     60889.000000      32.000000  324586.000000   \n",
       "50%    121777.000000      46.000000  548112.000000   \n",
       "75%    182665.000000      60.000000  774994.000000   \n",
       "max    243553.000000      74.000000  999987.000000   \n",
       "std     70307.839393      16.444029  259808.860574   \n",
       "\n",
       "                date_of_registration  num_dependents  estimated_salary  \\\n",
       "count                         243553   243553.000000     243553.000000   \n",
       "mean   2021-09-01 00:00:00.354748416        1.997500      85021.137839   \n",
       "min              2020-01-01 00:00:00        0.000000      20000.000000   \n",
       "25%              2020-10-31 00:00:00        1.000000      52585.000000   \n",
       "50%              2021-09-01 00:00:00        2.000000      84990.000000   \n",
       "75%              2022-07-03 00:00:00        3.000000     117488.000000   \n",
       "max              2023-05-04 00:00:00        4.000000     149999.000000   \n",
       "std                              NaN        1.414941      37508.963233   \n",
       "\n",
       "          calls_made       sms_sent      data_used          churn  \n",
       "count  243553.000000  243553.000000  243553.000000  243553.000000  \n",
       "mean       49.010548      23.945404    4993.186025       0.200478  \n",
       "min       -10.000000      -5.000000    -987.000000       0.000000  \n",
       "25%        24.000000      11.000000    2490.000000       0.000000  \n",
       "50%        49.000000      24.000000    4987.000000       0.000000  \n",
       "75%        74.000000      36.000000    7493.000000       0.000000  \n",
       "max       108.000000      53.000000   10991.000000       1.000000  \n",
       "std        29.453556      14.733575    2942.019547       0.400359  "
      ]
     },
     "execution_count": 15,
     "metadata": {},
     "output_type": "execute_result"
    }
   ],
   "source": [
    "df.describe()"
   ]
  },
  {
   "cell_type": "code",
   "execution_count": 16,
   "id": "5979868c-d871-4e2e-82b4-ecb5689a9fa0",
   "metadata": {},
   "outputs": [
    {
     "data": {
      "text/plain": [
       "customer_id             0\n",
       "telecom_partner         0\n",
       "gender                  0\n",
       "age                     0\n",
       "state                   0\n",
       "city                    0\n",
       "pincode                 0\n",
       "date_of_registration    0\n",
       "num_dependents          0\n",
       "estimated_salary        0\n",
       "calls_made              0\n",
       "sms_sent                0\n",
       "data_used               0\n",
       "churn                   0\n",
       "dtype: int64"
      ]
     },
     "execution_count": 16,
     "metadata": {},
     "output_type": "execute_result"
    }
   ],
   "source": [
    "# Har column me kitni missing values hain — ye batata hai\n",
    "df.isnull().sum()"
   ]
  },
  {
   "cell_type": "code",
   "execution_count": 17,
   "id": "27a88372-c50d-4096-88ac-0b8ec7983cf7",
   "metadata": {},
   "outputs": [
    {
     "data": {
      "text/plain": [
       "0.0"
      ]
     },
     "execution_count": 17,
     "metadata": {},
     "output_type": "execute_result"
    }
   ],
   "source": [
    "# Percentage of missing values (0 to 1)\n",
    "df[\"age\"].isnull().mean()"
   ]
  },
  {
   "cell_type": "code",
   "execution_count": 18,
   "id": "8099034b-1ed1-44dc-85e5-4419782598bd",
   "metadata": {},
   "outputs": [
    {
     "data": {
      "text/plain": [
       "['customer_id',\n",
       " 'telecom_partner',\n",
       " 'gender',\n",
       " 'age',\n",
       " 'state',\n",
       " 'city',\n",
       " 'pincode',\n",
       " 'date_of_registration',\n",
       " 'num_dependents',\n",
       " 'estimated_salary',\n",
       " 'calls_made',\n",
       " 'sms_sent',\n",
       " 'data_used',\n",
       " 'churn']"
      ]
     },
     "execution_count": 18,
     "metadata": {},
     "output_type": "execute_result"
    }
   ],
   "source": [
    "df.columns.tolist()"
   ]
  },
  {
   "cell_type": "code",
   "execution_count": 19,
   "id": "05b287f4-616d-4f90-b383-6d728ac461d9",
   "metadata": {},
   "outputs": [
    {
     "data": {
      "text/html": [
       "<div>\n",
       "<style scoped>\n",
       "    .dataframe tbody tr th:only-of-type {\n",
       "        vertical-align: middle;\n",
       "    }\n",
       "\n",
       "    .dataframe tbody tr th {\n",
       "        vertical-align: top;\n",
       "    }\n",
       "\n",
       "    .dataframe thead th {\n",
       "        text-align: right;\n",
       "    }\n",
       "</style>\n",
       "<table border=\"1\" class=\"dataframe\">\n",
       "  <thead>\n",
       "    <tr style=\"text-align: right;\">\n",
       "      <th></th>\n",
       "      <th>customer_id</th>\n",
       "      <th>churn</th>\n",
       "      <th>telecom_partner</th>\n",
       "      <th>age</th>\n",
       "      <th>estimated_salary</th>\n",
       "      <th>data_used</th>\n",
       "    </tr>\n",
       "  </thead>\n",
       "  <tbody>\n",
       "    <tr>\n",
       "      <th>0</th>\n",
       "      <td>1</td>\n",
       "      <td>0</td>\n",
       "      <td>Reliance Jio</td>\n",
       "      <td>25</td>\n",
       "      <td>124962</td>\n",
       "      <td>-361</td>\n",
       "    </tr>\n",
       "    <tr>\n",
       "      <th>1</th>\n",
       "      <td>2</td>\n",
       "      <td>0</td>\n",
       "      <td>Reliance Jio</td>\n",
       "      <td>55</td>\n",
       "      <td>130556</td>\n",
       "      <td>5973</td>\n",
       "    </tr>\n",
       "    <tr>\n",
       "      <th>2</th>\n",
       "      <td>3</td>\n",
       "      <td>1</td>\n",
       "      <td>Vodafone</td>\n",
       "      <td>57</td>\n",
       "      <td>148828</td>\n",
       "      <td>193</td>\n",
       "    </tr>\n",
       "    <tr>\n",
       "      <th>3</th>\n",
       "      <td>4</td>\n",
       "      <td>1</td>\n",
       "      <td>BSNL</td>\n",
       "      <td>46</td>\n",
       "      <td>38722</td>\n",
       "      <td>9377</td>\n",
       "    </tr>\n",
       "    <tr>\n",
       "      <th>4</th>\n",
       "      <td>5</td>\n",
       "      <td>0</td>\n",
       "      <td>BSNL</td>\n",
       "      <td>26</td>\n",
       "      <td>55098</td>\n",
       "      <td>1393</td>\n",
       "    </tr>\n",
       "  </tbody>\n",
       "</table>\n",
       "</div>"
      ],
      "text/plain": [
       "   customer_id  churn telecom_partner  age  estimated_salary  data_used\n",
       "0            1      0    Reliance Jio   25            124962       -361\n",
       "1            2      0    Reliance Jio   55            130556       5973\n",
       "2            3      1        Vodafone   57            148828        193\n",
       "3            4      1            BSNL   46             38722       9377\n",
       "4            5      0            BSNL   26             55098       1393"
      ]
     },
     "execution_count": 19,
     "metadata": {},
     "output_type": "execute_result"
    }
   ],
   "source": [
    "# 2D\n",
    "df[[\"customer_id\",\"churn\",\"telecom_partner\",\"age\",\"estimated_salary\",\"data_used\"]].head()"
   ]
  },
  {
   "cell_type": "code",
   "execution_count": 20,
   "id": "60027e3a-e9fd-4919-b170-7775ecf9d460",
   "metadata": {},
   "outputs": [
    {
     "data": {
      "text/plain": [
       "0    25\n",
       "1    55\n",
       "2    57\n",
       "3    46\n",
       "4    26\n",
       "Name: age, dtype: int64"
      ]
     },
     "execution_count": 20,
     "metadata": {},
     "output_type": "execute_result"
    }
   ],
   "source": [
    "# 1D\n",
    "df[\"age\"].head()"
   ]
  },
  {
   "cell_type": "code",
   "execution_count": 21,
   "id": "13645272-790d-42ef-bba1-d11bd01fd1f8",
   "metadata": {},
   "outputs": [],
   "source": [
    "churned=df[df[\"churn\"]==1]"
   ]
  },
  {
   "cell_type": "code",
   "execution_count": 22,
   "id": "5e941ada-96e5-44c5-8aa2-1ddd185c33b8",
   "metadata": {},
   "outputs": [
    {
     "data": {
      "text/html": [
       "<div>\n",
       "<style scoped>\n",
       "    .dataframe tbody tr th:only-of-type {\n",
       "        vertical-align: middle;\n",
       "    }\n",
       "\n",
       "    .dataframe tbody tr th {\n",
       "        vertical-align: top;\n",
       "    }\n",
       "\n",
       "    .dataframe thead th {\n",
       "        text-align: right;\n",
       "    }\n",
       "</style>\n",
       "<table border=\"1\" class=\"dataframe\">\n",
       "  <thead>\n",
       "    <tr style=\"text-align: right;\">\n",
       "      <th></th>\n",
       "      <th>customer_id</th>\n",
       "      <th>telecom_partner</th>\n",
       "      <th>gender</th>\n",
       "      <th>age</th>\n",
       "      <th>state</th>\n",
       "      <th>city</th>\n",
       "      <th>pincode</th>\n",
       "      <th>date_of_registration</th>\n",
       "      <th>num_dependents</th>\n",
       "      <th>estimated_salary</th>\n",
       "      <th>calls_made</th>\n",
       "      <th>sms_sent</th>\n",
       "      <th>data_used</th>\n",
       "      <th>churn</th>\n",
       "    </tr>\n",
       "  </thead>\n",
       "  <tbody>\n",
       "    <tr>\n",
       "      <th>2</th>\n",
       "      <td>3</td>\n",
       "      <td>Vodafone</td>\n",
       "      <td>F</td>\n",
       "      <td>57</td>\n",
       "      <td>Arunachal Pradesh</td>\n",
       "      <td>Delhi</td>\n",
       "      <td>423976</td>\n",
       "      <td>2020-01-01</td>\n",
       "      <td>0</td>\n",
       "      <td>148828</td>\n",
       "      <td>49</td>\n",
       "      <td>24</td>\n",
       "      <td>193</td>\n",
       "      <td>1</td>\n",
       "    </tr>\n",
       "    <tr>\n",
       "      <th>3</th>\n",
       "      <td>4</td>\n",
       "      <td>BSNL</td>\n",
       "      <td>M</td>\n",
       "      <td>46</td>\n",
       "      <td>Tamil Nadu</td>\n",
       "      <td>Kolkata</td>\n",
       "      <td>522841</td>\n",
       "      <td>2020-01-01</td>\n",
       "      <td>1</td>\n",
       "      <td>38722</td>\n",
       "      <td>80</td>\n",
       "      <td>25</td>\n",
       "      <td>9377</td>\n",
       "      <td>1</td>\n",
       "    </tr>\n",
       "    <tr>\n",
       "      <th>7</th>\n",
       "      <td>8</td>\n",
       "      <td>BSNL</td>\n",
       "      <td>M</td>\n",
       "      <td>46</td>\n",
       "      <td>Arunachal Pradesh</td>\n",
       "      <td>Kolkata</td>\n",
       "      <td>866786</td>\n",
       "      <td>2020-01-01</td>\n",
       "      <td>4</td>\n",
       "      <td>104541</td>\n",
       "      <td>87</td>\n",
       "      <td>40</td>\n",
       "      <td>2245</td>\n",
       "      <td>1</td>\n",
       "    </tr>\n",
       "    <tr>\n",
       "      <th>10</th>\n",
       "      <td>11</td>\n",
       "      <td>Airtel</td>\n",
       "      <td>M</td>\n",
       "      <td>44</td>\n",
       "      <td>Uttarakhand</td>\n",
       "      <td>Chennai</td>\n",
       "      <td>776250</td>\n",
       "      <td>2020-01-01</td>\n",
       "      <td>0</td>\n",
       "      <td>133288</td>\n",
       "      <td>7</td>\n",
       "      <td>7</td>\n",
       "      <td>1275</td>\n",
       "      <td>1</td>\n",
       "    </tr>\n",
       "    <tr>\n",
       "      <th>16</th>\n",
       "      <td>17</td>\n",
       "      <td>Vodafone</td>\n",
       "      <td>M</td>\n",
       "      <td>61</td>\n",
       "      <td>Himachal Pradesh</td>\n",
       "      <td>Hyderabad</td>\n",
       "      <td>734068</td>\n",
       "      <td>2020-01-01</td>\n",
       "      <td>2</td>\n",
       "      <td>59723</td>\n",
       "      <td>16</td>\n",
       "      <td>42</td>\n",
       "      <td>8157</td>\n",
       "      <td>1</td>\n",
       "    </tr>\n",
       "  </tbody>\n",
       "</table>\n",
       "</div>"
      ],
      "text/plain": [
       "    customer_id telecom_partner gender  age              state       city  \\\n",
       "2             3        Vodafone      F   57  Arunachal Pradesh      Delhi   \n",
       "3             4            BSNL      M   46         Tamil Nadu    Kolkata   \n",
       "7             8            BSNL      M   46  Arunachal Pradesh    Kolkata   \n",
       "10           11          Airtel      M   44        Uttarakhand    Chennai   \n",
       "16           17        Vodafone      M   61   Himachal Pradesh  Hyderabad   \n",
       "\n",
       "    pincode date_of_registration  num_dependents  estimated_salary  \\\n",
       "2    423976           2020-01-01               0            148828   \n",
       "3    522841           2020-01-01               1             38722   \n",
       "7    866786           2020-01-01               4            104541   \n",
       "10   776250           2020-01-01               0            133288   \n",
       "16   734068           2020-01-01               2             59723   \n",
       "\n",
       "    calls_made  sms_sent  data_used  churn  \n",
       "2           49        24        193      1  \n",
       "3           80        25       9377      1  \n",
       "7           87        40       2245      1  \n",
       "10           7         7       1275      1  \n",
       "16          16        42       8157      1  "
      ]
     },
     "execution_count": 22,
     "metadata": {},
     "output_type": "execute_result"
    }
   ],
   "source": [
    "churned.head()"
   ]
  },
  {
   "cell_type": "code",
   "execution_count": 23,
   "id": "311d0b21-95d5-458a-86df-6117d2cf612a",
   "metadata": {},
   "outputs": [],
   "source": [
    "high_income=df[df[\"estimated_salary\"]>100000]"
   ]
  },
  {
   "cell_type": "code",
   "execution_count": 24,
   "id": "f552165a-b85f-463e-9675-5b15130d4b5e",
   "metadata": {},
   "outputs": [
    {
     "data": {
      "text/html": [
       "<div>\n",
       "<style scoped>\n",
       "    .dataframe tbody tr th:only-of-type {\n",
       "        vertical-align: middle;\n",
       "    }\n",
       "\n",
       "    .dataframe tbody tr th {\n",
       "        vertical-align: top;\n",
       "    }\n",
       "\n",
       "    .dataframe thead th {\n",
       "        text-align: right;\n",
       "    }\n",
       "</style>\n",
       "<table border=\"1\" class=\"dataframe\">\n",
       "  <thead>\n",
       "    <tr style=\"text-align: right;\">\n",
       "      <th></th>\n",
       "      <th>customer_id</th>\n",
       "      <th>telecom_partner</th>\n",
       "      <th>gender</th>\n",
       "      <th>age</th>\n",
       "      <th>state</th>\n",
       "      <th>city</th>\n",
       "      <th>pincode</th>\n",
       "      <th>date_of_registration</th>\n",
       "      <th>num_dependents</th>\n",
       "      <th>estimated_salary</th>\n",
       "      <th>calls_made</th>\n",
       "      <th>sms_sent</th>\n",
       "      <th>data_used</th>\n",
       "      <th>churn</th>\n",
       "    </tr>\n",
       "  </thead>\n",
       "  <tbody>\n",
       "    <tr>\n",
       "      <th>0</th>\n",
       "      <td>1</td>\n",
       "      <td>Reliance Jio</td>\n",
       "      <td>F</td>\n",
       "      <td>25</td>\n",
       "      <td>Karnataka</td>\n",
       "      <td>Kolkata</td>\n",
       "      <td>755597</td>\n",
       "      <td>2020-01-01</td>\n",
       "      <td>4</td>\n",
       "      <td>124962</td>\n",
       "      <td>44</td>\n",
       "      <td>45</td>\n",
       "      <td>-361</td>\n",
       "      <td>0</td>\n",
       "    </tr>\n",
       "    <tr>\n",
       "      <th>1</th>\n",
       "      <td>2</td>\n",
       "      <td>Reliance Jio</td>\n",
       "      <td>F</td>\n",
       "      <td>55</td>\n",
       "      <td>Mizoram</td>\n",
       "      <td>Mumbai</td>\n",
       "      <td>125926</td>\n",
       "      <td>2020-01-01</td>\n",
       "      <td>2</td>\n",
       "      <td>130556</td>\n",
       "      <td>62</td>\n",
       "      <td>39</td>\n",
       "      <td>5973</td>\n",
       "      <td>0</td>\n",
       "    </tr>\n",
       "    <tr>\n",
       "      <th>2</th>\n",
       "      <td>3</td>\n",
       "      <td>Vodafone</td>\n",
       "      <td>F</td>\n",
       "      <td>57</td>\n",
       "      <td>Arunachal Pradesh</td>\n",
       "      <td>Delhi</td>\n",
       "      <td>423976</td>\n",
       "      <td>2020-01-01</td>\n",
       "      <td>0</td>\n",
       "      <td>148828</td>\n",
       "      <td>49</td>\n",
       "      <td>24</td>\n",
       "      <td>193</td>\n",
       "      <td>1</td>\n",
       "    </tr>\n",
       "    <tr>\n",
       "      <th>6</th>\n",
       "      <td>7</td>\n",
       "      <td>BSNL</td>\n",
       "      <td>F</td>\n",
       "      <td>60</td>\n",
       "      <td>Karnataka</td>\n",
       "      <td>Delhi</td>\n",
       "      <td>609616</td>\n",
       "      <td>2020-01-01</td>\n",
       "      <td>1</td>\n",
       "      <td>110035</td>\n",
       "      <td>36</td>\n",
       "      <td>13</td>\n",
       "      <td>8512</td>\n",
       "      <td>0</td>\n",
       "    </tr>\n",
       "    <tr>\n",
       "      <th>7</th>\n",
       "      <td>8</td>\n",
       "      <td>BSNL</td>\n",
       "      <td>M</td>\n",
       "      <td>46</td>\n",
       "      <td>Arunachal Pradesh</td>\n",
       "      <td>Kolkata</td>\n",
       "      <td>866786</td>\n",
       "      <td>2020-01-01</td>\n",
       "      <td>4</td>\n",
       "      <td>104541</td>\n",
       "      <td>87</td>\n",
       "      <td>40</td>\n",
       "      <td>2245</td>\n",
       "      <td>1</td>\n",
       "    </tr>\n",
       "  </tbody>\n",
       "</table>\n",
       "</div>"
      ],
      "text/plain": [
       "   customer_id telecom_partner gender  age              state     city  \\\n",
       "0            1    Reliance Jio      F   25          Karnataka  Kolkata   \n",
       "1            2    Reliance Jio      F   55            Mizoram   Mumbai   \n",
       "2            3        Vodafone      F   57  Arunachal Pradesh    Delhi   \n",
       "6            7            BSNL      F   60          Karnataka    Delhi   \n",
       "7            8            BSNL      M   46  Arunachal Pradesh  Kolkata   \n",
       "\n",
       "   pincode date_of_registration  num_dependents  estimated_salary  calls_made  \\\n",
       "0   755597           2020-01-01               4            124962          44   \n",
       "1   125926           2020-01-01               2            130556          62   \n",
       "2   423976           2020-01-01               0            148828          49   \n",
       "6   609616           2020-01-01               1            110035          36   \n",
       "7   866786           2020-01-01               4            104541          87   \n",
       "\n",
       "   sms_sent  data_used  churn  \n",
       "0        45       -361      0  \n",
       "1        39       5973      0  \n",
       "2        24        193      1  \n",
       "6        13       8512      0  \n",
       "7        40       2245      1  "
      ]
     },
     "execution_count": 24,
     "metadata": {},
     "output_type": "execute_result"
    }
   ],
   "source": [
    "high_income.head()"
   ]
  },
  {
   "cell_type": "code",
   "execution_count": 25,
   "id": "90a2ebfd-befb-4bbb-b342-5e9b88e5899d",
   "metadata": {},
   "outputs": [
    {
     "data": {
      "text/plain": [
       "churn\n",
       "0    194726\n",
       "1     48827\n",
       "Name: count, dtype: int64"
      ]
     },
     "execution_count": 25,
     "metadata": {},
     "output_type": "execute_result"
    }
   ],
   "source": [
    "df[\"churn\"].value_counts()"
   ]
  },
  {
   "cell_type": "code",
   "execution_count": 26,
   "id": "021b4111-f705-41e7-873d-8369016130ae",
   "metadata": {},
   "outputs": [
    {
     "data": {
      "text/html": [
       "<div>\n",
       "<style scoped>\n",
       "    .dataframe tbody tr th:only-of-type {\n",
       "        vertical-align: middle;\n",
       "    }\n",
       "\n",
       "    .dataframe tbody tr th {\n",
       "        vertical-align: top;\n",
       "    }\n",
       "\n",
       "    .dataframe thead th {\n",
       "        text-align: right;\n",
       "    }\n",
       "</style>\n",
       "<table border=\"1\" class=\"dataframe\">\n",
       "  <thead>\n",
       "    <tr style=\"text-align: right;\">\n",
       "      <th></th>\n",
       "      <th>churn</th>\n",
       "    </tr>\n",
       "    <tr>\n",
       "      <th>state</th>\n",
       "      <th></th>\n",
       "    </tr>\n",
       "  </thead>\n",
       "  <tbody>\n",
       "    <tr>\n",
       "      <th>Andhra Pradesh</th>\n",
       "      <td>8649</td>\n",
       "    </tr>\n",
       "    <tr>\n",
       "      <th>Arunachal Pradesh</th>\n",
       "      <td>8757</td>\n",
       "    </tr>\n",
       "    <tr>\n",
       "      <th>Assam</th>\n",
       "      <td>8547</td>\n",
       "    </tr>\n",
       "    <tr>\n",
       "      <th>Bihar</th>\n",
       "      <td>8633</td>\n",
       "    </tr>\n",
       "    <tr>\n",
       "      <th>Chhattisgarh</th>\n",
       "      <td>8677</td>\n",
       "    </tr>\n",
       "    <tr>\n",
       "      <th>Goa</th>\n",
       "      <td>8694</td>\n",
       "    </tr>\n",
       "    <tr>\n",
       "      <th>Gujarat</th>\n",
       "      <td>8610</td>\n",
       "    </tr>\n",
       "    <tr>\n",
       "      <th>Haryana</th>\n",
       "      <td>8740</td>\n",
       "    </tr>\n",
       "    <tr>\n",
       "      <th>Himachal Pradesh</th>\n",
       "      <td>8682</td>\n",
       "    </tr>\n",
       "    <tr>\n",
       "      <th>Jharkhand</th>\n",
       "      <td>8755</td>\n",
       "    </tr>\n",
       "    <tr>\n",
       "      <th>Karnataka</th>\n",
       "      <td>8845</td>\n",
       "    </tr>\n",
       "    <tr>\n",
       "      <th>Kerala</th>\n",
       "      <td>8725</td>\n",
       "    </tr>\n",
       "    <tr>\n",
       "      <th>Madhya Pradesh</th>\n",
       "      <td>8817</td>\n",
       "    </tr>\n",
       "    <tr>\n",
       "      <th>Maharashtra</th>\n",
       "      <td>8820</td>\n",
       "    </tr>\n",
       "    <tr>\n",
       "      <th>Manipur</th>\n",
       "      <td>8651</td>\n",
       "    </tr>\n",
       "    <tr>\n",
       "      <th>Meghalaya</th>\n",
       "      <td>8684</td>\n",
       "    </tr>\n",
       "    <tr>\n",
       "      <th>Mizoram</th>\n",
       "      <td>8689</td>\n",
       "    </tr>\n",
       "    <tr>\n",
       "      <th>Nagaland</th>\n",
       "      <td>8562</td>\n",
       "    </tr>\n",
       "    <tr>\n",
       "      <th>Odisha</th>\n",
       "      <td>8712</td>\n",
       "    </tr>\n",
       "    <tr>\n",
       "      <th>Punjab</th>\n",
       "      <td>8628</td>\n",
       "    </tr>\n",
       "    <tr>\n",
       "      <th>Rajasthan</th>\n",
       "      <td>8750</td>\n",
       "    </tr>\n",
       "    <tr>\n",
       "      <th>Sikkim</th>\n",
       "      <td>8689</td>\n",
       "    </tr>\n",
       "    <tr>\n",
       "      <th>Tamil Nadu</th>\n",
       "      <td>8718</td>\n",
       "    </tr>\n",
       "    <tr>\n",
       "      <th>Telangana</th>\n",
       "      <td>8689</td>\n",
       "    </tr>\n",
       "    <tr>\n",
       "      <th>Tripura</th>\n",
       "      <td>8660</td>\n",
       "    </tr>\n",
       "    <tr>\n",
       "      <th>Uttar Pradesh</th>\n",
       "      <td>8742</td>\n",
       "    </tr>\n",
       "    <tr>\n",
       "      <th>Uttarakhand</th>\n",
       "      <td>8856</td>\n",
       "    </tr>\n",
       "    <tr>\n",
       "      <th>West Bengal</th>\n",
       "      <td>8572</td>\n",
       "    </tr>\n",
       "  </tbody>\n",
       "</table>\n",
       "</div>"
      ],
      "text/plain": [
       "                   churn\n",
       "state                   \n",
       "Andhra Pradesh      8649\n",
       "Arunachal Pradesh   8757\n",
       "Assam               8547\n",
       "Bihar               8633\n",
       "Chhattisgarh        8677\n",
       "Goa                 8694\n",
       "Gujarat             8610\n",
       "Haryana             8740\n",
       "Himachal Pradesh    8682\n",
       "Jharkhand           8755\n",
       "Karnataka           8845\n",
       "Kerala              8725\n",
       "Madhya Pradesh      8817\n",
       "Maharashtra         8820\n",
       "Manipur             8651\n",
       "Meghalaya           8684\n",
       "Mizoram             8689\n",
       "Nagaland            8562\n",
       "Odisha              8712\n",
       "Punjab              8628\n",
       "Rajasthan           8750\n",
       "Sikkim              8689\n",
       "Tamil Nadu          8718\n",
       "Telangana           8689\n",
       "Tripura             8660\n",
       "Uttar Pradesh       8742\n",
       "Uttarakhand         8856\n",
       "West Bengal         8572"
      ]
     },
     "execution_count": 26,
     "metadata": {},
     "output_type": "execute_result"
    }
   ],
   "source": [
    "df[[\"state\",\"churn\"]].groupby(\"state\").count()"
   ]
  },
  {
   "cell_type": "code",
   "execution_count": 27,
   "id": "515972d7-9ce8-4be7-ba80-e0f33f056040",
   "metadata": {},
   "outputs": [],
   "source": [
    "#  Best when: missing values <5% ho dataset me\n",
    "df_cleaned=df.dropna()"
   ]
  },
  {
   "cell_type": "code",
   "execution_count": 28,
   "id": "6cca988d-7608-4147-a6f0-b8eecdf0550e",
   "metadata": {},
   "outputs": [],
   "source": [
    "# fill with mean\n",
    "df[\"age\"]=df[\"age\"].fillna(df[\"age\"].mean())"
   ]
  },
  {
   "cell_type": "code",
   "execution_count": 29,
   "id": "fc9e028f-b177-4b49-a80b-f795b6950ba1",
   "metadata": {},
   "outputs": [],
   "source": [
    "# fill with median { Use when data is having outliers }\n",
    "df[\"age\"]=df[\"age\"].fillna(df[\"age\"].median())"
   ]
  },
  {
   "cell_type": "code",
   "execution_count": 30,
   "id": "703f6e71-e30d-4cce-bb61-6f96a028847f",
   "metadata": {},
   "outputs": [],
   "source": [
    "# fill categorical null values with mode()[0] \n",
    "# [0] is used for filling null values with the mode value which comes first , mode() this will return series of mode values\n",
    "df[\"gender\"]=df[\"gender\"].fillna(df[\"gender\"].mode()[0])"
   ]
  },
  {
   "cell_type": "code",
   "execution_count": 31,
   "id": "9344bf52-1d96-438c-8655-82752b82ac68",
   "metadata": {},
   "outputs": [
    {
     "name": "stdout",
     "output_type": "stream",
     "text": [
      "5003.0\n"
     ]
    }
   ],
   "source": [
    "# detecting outliers\n",
    "\n",
    "Q1=df[\"data_used\"].quantile(0.25)\n",
    "Q3=df[\"data_used\"].quantile(0.75)\n",
    "\n",
    "IQR=Q3-Q1\n",
    "print(IQR)"
   ]
  },
  {
   "cell_type": "code",
   "execution_count": 32,
   "id": "e8e17cc9-b686-4856-9cbc-5f69345d7507",
   "metadata": {},
   "outputs": [],
   "source": [
    "lower_bound=Q1-(1.5*IQR)\n",
    "upper_bound=Q3+(1.5*IQR)"
   ]
  },
  {
   "cell_type": "code",
   "execution_count": 33,
   "id": "7dfddbe8-b979-4cf9-b629-236e478ad621",
   "metadata": {},
   "outputs": [
    {
     "name": "stdout",
     "output_type": "stream",
     "text": [
      "Outliers in column data_used:  0\n"
     ]
    }
   ],
   "source": [
    "outliers=df[(df[\"data_used\"]<lower_bound) |( df[\"data_used\"]>upper_bound)]\n",
    "print(\"Outliers in column data_used: \",outliers.shape[0])"
   ]
  },
  {
   "cell_type": "code",
   "execution_count": 34,
   "id": "587f873d-c2a3-4907-8831-51b247c79e7d",
   "metadata": {},
   "outputs": [
    {
     "name": "stdout",
     "output_type": "stream",
     "text": [
      "outliers in estimated_salary:  0\n"
     ]
    }
   ],
   "source": [
    "Q1=df[\"estimated_salary\"].quantile(0.25)\n",
    "Q3=df[\"estimated_salary\"].quantile(0.75)\n",
    "\n",
    "IQR=Q3-Q1\n",
    "\n",
    "lower_bound=Q1-(1.5*IQR)\n",
    "upper_bound=Q3+(1.5*IQR)\n",
    "\n",
    "outliers_salary=df[(df[\"estimated_salary\"]<lower_bound) | (df[\"estimated_salary\"]>upper_bound)]\n",
    "print(\"outliers in estimated_salary: \",outliers_salary.shape[0])"
   ]
  },
  {
   "cell_type": "code",
   "execution_count": 35,
   "id": "8bb95130-714b-46fa-a20b-ffa6c15993d4",
   "metadata": {},
   "outputs": [
    {
     "name": "stdout",
     "output_type": "stream",
     "text": [
      "outliers in age:  0\n"
     ]
    }
   ],
   "source": [
    "Q1=df[\"age\"].quantile(0.25)\n",
    "Q3=df[\"age\"].quantile(0.75)\n",
    "\n",
    "IQR=Q3 - Q1\n",
    "\n",
    "lower_bound=Q1-(1.5*IQR)\n",
    "upper_bound=Q3+(1.5*IQR)\n",
    "\n",
    "outlier_age=df[(df[\"age\"]<lower_bound) | (df[\"age\"]>upper_bound)]\n",
    "print(\"outliers in age: \",outlier_age.shape[0])\n",
    "\n",
    "# agr outliers occur hote\n",
    "# Remove Outliers\n",
    "# Clip/cap method (upper bound or lower bound set kr dete h)\n",
    "# log transformation"
   ]
  },
  {
   "cell_type": "code",
   "execution_count": 36,
   "id": "8d070a31-e8e7-4244-ae82-d11301f28d27",
   "metadata": {},
   "outputs": [
    {
     "name": "stdout",
     "output_type": "stream",
     "text": [
      "Index(['customer_id', 'telecom_partner', 'gender', 'age', 'state', 'city',\n",
      "       'pincode', 'date_of_registration', 'num_dependents', 'estimated_salary',\n",
      "       'calls_made', 'sms_sent', 'data_used', 'churn'],\n",
      "      dtype='object')\n"
     ]
    }
   ],
   "source": [
    "print(df.columns)"
   ]
  },
  {
   "cell_type": "code",
   "execution_count": 37,
   "id": "c2257846-8e95-4b0f-8de4-48183e68d52e",
   "metadata": {},
   "outputs": [
    {
     "name": "stdout",
     "output_type": "stream",
     "text": [
      "['F' 'M']\n"
     ]
    }
   ],
   "source": [
    "print(df[\"gender\"].unique())"
   ]
  },
  {
   "cell_type": "code",
   "execution_count": 38,
   "id": "6784aa67-6e5d-4fa9-976e-06fa5a01b7b8",
   "metadata": {},
   "outputs": [
    {
     "name": "stdout",
     "output_type": "stream",
     "text": [
      "['Reliance Jio' 'Vodafone' 'BSNL' 'Airtel']\n"
     ]
    }
   ],
   "source": [
    "print(df[\"telecom_partner\"].unique())"
   ]
  },
  {
   "cell_type": "code",
   "execution_count": 39,
   "id": "18f9b1ef-b140-4f96-8916-2c2b78631e43",
   "metadata": {},
   "outputs": [],
   "source": [
    "# Label encoding\n",
    "df[\"gender\"]=df[\"gender\"].map({'M':1,'F':0})"
   ]
  },
  {
   "cell_type": "code",
   "execution_count": 40,
   "id": "17efd58b-2efe-4d76-b15b-938319641aca",
   "metadata": {},
   "outputs": [
    {
     "name": "stdout",
     "output_type": "stream",
     "text": [
      "Unique values after Encoding:  [0 1]\n"
     ]
    }
   ],
   "source": [
    "print(\"Unique values after Encoding: \",df[\"gender\"].unique())"
   ]
  },
  {
   "cell_type": "code",
   "execution_count": 41,
   "id": "e9b83a35-50c9-4192-9ed0-1d72b67be716",
   "metadata": {},
   "outputs": [],
   "source": [
    "# One hot encoding\n",
    "df = pd.get_dummies(df, columns=[\"telecom_partner\"], drop_first=True)"
   ]
  },
  {
   "cell_type": "code",
   "execution_count": 42,
   "id": "84c43215-d6dd-495e-b97f-e6767ec13446",
   "metadata": {},
   "outputs": [
    {
     "data": {
      "text/html": [
       "<div>\n",
       "<style scoped>\n",
       "    .dataframe tbody tr th:only-of-type {\n",
       "        vertical-align: middle;\n",
       "    }\n",
       "\n",
       "    .dataframe tbody tr th {\n",
       "        vertical-align: top;\n",
       "    }\n",
       "\n",
       "    .dataframe thead th {\n",
       "        text-align: right;\n",
       "    }\n",
       "</style>\n",
       "<table border=\"1\" class=\"dataframe\">\n",
       "  <thead>\n",
       "    <tr style=\"text-align: right;\">\n",
       "      <th></th>\n",
       "      <th>customer_id</th>\n",
       "      <th>gender</th>\n",
       "      <th>age</th>\n",
       "      <th>state</th>\n",
       "      <th>city</th>\n",
       "      <th>pincode</th>\n",
       "      <th>date_of_registration</th>\n",
       "      <th>num_dependents</th>\n",
       "      <th>estimated_salary</th>\n",
       "      <th>calls_made</th>\n",
       "      <th>sms_sent</th>\n",
       "      <th>data_used</th>\n",
       "      <th>churn</th>\n",
       "      <th>telecom_partner_BSNL</th>\n",
       "      <th>telecom_partner_Reliance Jio</th>\n",
       "      <th>telecom_partner_Vodafone</th>\n",
       "    </tr>\n",
       "  </thead>\n",
       "  <tbody>\n",
       "    <tr>\n",
       "      <th>0</th>\n",
       "      <td>1</td>\n",
       "      <td>0</td>\n",
       "      <td>25</td>\n",
       "      <td>Karnataka</td>\n",
       "      <td>Kolkata</td>\n",
       "      <td>755597</td>\n",
       "      <td>2020-01-01</td>\n",
       "      <td>4</td>\n",
       "      <td>124962</td>\n",
       "      <td>44</td>\n",
       "      <td>45</td>\n",
       "      <td>-361</td>\n",
       "      <td>0</td>\n",
       "      <td>False</td>\n",
       "      <td>True</td>\n",
       "      <td>False</td>\n",
       "    </tr>\n",
       "    <tr>\n",
       "      <th>1</th>\n",
       "      <td>2</td>\n",
       "      <td>0</td>\n",
       "      <td>55</td>\n",
       "      <td>Mizoram</td>\n",
       "      <td>Mumbai</td>\n",
       "      <td>125926</td>\n",
       "      <td>2020-01-01</td>\n",
       "      <td>2</td>\n",
       "      <td>130556</td>\n",
       "      <td>62</td>\n",
       "      <td>39</td>\n",
       "      <td>5973</td>\n",
       "      <td>0</td>\n",
       "      <td>False</td>\n",
       "      <td>True</td>\n",
       "      <td>False</td>\n",
       "    </tr>\n",
       "    <tr>\n",
       "      <th>2</th>\n",
       "      <td>3</td>\n",
       "      <td>0</td>\n",
       "      <td>57</td>\n",
       "      <td>Arunachal Pradesh</td>\n",
       "      <td>Delhi</td>\n",
       "      <td>423976</td>\n",
       "      <td>2020-01-01</td>\n",
       "      <td>0</td>\n",
       "      <td>148828</td>\n",
       "      <td>49</td>\n",
       "      <td>24</td>\n",
       "      <td>193</td>\n",
       "      <td>1</td>\n",
       "      <td>False</td>\n",
       "      <td>False</td>\n",
       "      <td>True</td>\n",
       "    </tr>\n",
       "    <tr>\n",
       "      <th>3</th>\n",
       "      <td>4</td>\n",
       "      <td>1</td>\n",
       "      <td>46</td>\n",
       "      <td>Tamil Nadu</td>\n",
       "      <td>Kolkata</td>\n",
       "      <td>522841</td>\n",
       "      <td>2020-01-01</td>\n",
       "      <td>1</td>\n",
       "      <td>38722</td>\n",
       "      <td>80</td>\n",
       "      <td>25</td>\n",
       "      <td>9377</td>\n",
       "      <td>1</td>\n",
       "      <td>True</td>\n",
       "      <td>False</td>\n",
       "      <td>False</td>\n",
       "    </tr>\n",
       "    <tr>\n",
       "      <th>4</th>\n",
       "      <td>5</td>\n",
       "      <td>0</td>\n",
       "      <td>26</td>\n",
       "      <td>Tripura</td>\n",
       "      <td>Delhi</td>\n",
       "      <td>740247</td>\n",
       "      <td>2020-01-01</td>\n",
       "      <td>2</td>\n",
       "      <td>55098</td>\n",
       "      <td>78</td>\n",
       "      <td>15</td>\n",
       "      <td>1393</td>\n",
       "      <td>0</td>\n",
       "      <td>True</td>\n",
       "      <td>False</td>\n",
       "      <td>False</td>\n",
       "    </tr>\n",
       "  </tbody>\n",
       "</table>\n",
       "</div>"
      ],
      "text/plain": [
       "   customer_id  gender  age              state     city  pincode  \\\n",
       "0            1       0   25          Karnataka  Kolkata   755597   \n",
       "1            2       0   55            Mizoram   Mumbai   125926   \n",
       "2            3       0   57  Arunachal Pradesh    Delhi   423976   \n",
       "3            4       1   46         Tamil Nadu  Kolkata   522841   \n",
       "4            5       0   26            Tripura    Delhi   740247   \n",
       "\n",
       "  date_of_registration  num_dependents  estimated_salary  calls_made  \\\n",
       "0           2020-01-01               4            124962          44   \n",
       "1           2020-01-01               2            130556          62   \n",
       "2           2020-01-01               0            148828          49   \n",
       "3           2020-01-01               1             38722          80   \n",
       "4           2020-01-01               2             55098          78   \n",
       "\n",
       "   sms_sent  data_used  churn  telecom_partner_BSNL  \\\n",
       "0        45       -361      0                 False   \n",
       "1        39       5973      0                 False   \n",
       "2        24        193      1                 False   \n",
       "3        25       9377      1                  True   \n",
       "4        15       1393      0                  True   \n",
       "\n",
       "   telecom_partner_Reliance Jio  telecom_partner_Vodafone  \n",
       "0                          True                     False  \n",
       "1                          True                     False  \n",
       "2                         False                      True  \n",
       "3                         False                     False  \n",
       "4                         False                     False  "
      ]
     },
     "execution_count": 42,
     "metadata": {},
     "output_type": "execute_result"
    }
   ],
   "source": [
    "df.head()"
   ]
  },
  {
   "cell_type": "code",
   "execution_count": 43,
   "id": "4a2c8f2b-af6d-408c-bad1-95226506e32b",
   "metadata": {},
   "outputs": [],
   "source": [
    "# Min-Max Scaling\n",
    "\n",
    "from sklearn.preprocessing import MinMaxScaler\n",
    "scaler=MinMaxScaler()\n",
    "cols_to_scale=[\"age\",\"estimated_salary\",\"data_used\"]\n",
    "df[cols_to_scale]=scaler.fit_transform(df[cols_to_scale])"
   ]
  },
  {
   "cell_type": "code",
   "execution_count": 44,
   "id": "6b4f54b0-bda2-44a3-ba8e-a02c97dcd260",
   "metadata": {},
   "outputs": [
    {
     "data": {
      "text/html": [
       "<div>\n",
       "<style scoped>\n",
       "    .dataframe tbody tr th:only-of-type {\n",
       "        vertical-align: middle;\n",
       "    }\n",
       "\n",
       "    .dataframe tbody tr th {\n",
       "        vertical-align: top;\n",
       "    }\n",
       "\n",
       "    .dataframe thead th {\n",
       "        text-align: right;\n",
       "    }\n",
       "</style>\n",
       "<table border=\"1\" class=\"dataframe\">\n",
       "  <thead>\n",
       "    <tr style=\"text-align: right;\">\n",
       "      <th></th>\n",
       "      <th>age</th>\n",
       "      <th>estimated_salary</th>\n",
       "      <th>data_used</th>\n",
       "    </tr>\n",
       "  </thead>\n",
       "  <tbody>\n",
       "    <tr>\n",
       "      <th>count</th>\n",
       "      <td>243553.000000</td>\n",
       "      <td>243553.000000</td>\n",
       "      <td>243553.000000</td>\n",
       "    </tr>\n",
       "    <tr>\n",
       "      <th>mean</th>\n",
       "      <td>0.501386</td>\n",
       "      <td>0.500166</td>\n",
       "      <td>0.499264</td>\n",
       "    </tr>\n",
       "    <tr>\n",
       "      <th>std</th>\n",
       "      <td>0.293643</td>\n",
       "      <td>0.288533</td>\n",
       "      <td>0.245619</td>\n",
       "    </tr>\n",
       "    <tr>\n",
       "      <th>min</th>\n",
       "      <td>0.000000</td>\n",
       "      <td>0.000000</td>\n",
       "      <td>0.000000</td>\n",
       "    </tr>\n",
       "    <tr>\n",
       "      <th>25%</th>\n",
       "      <td>0.250000</td>\n",
       "      <td>0.250656</td>\n",
       "      <td>0.290282</td>\n",
       "    </tr>\n",
       "    <tr>\n",
       "      <th>50%</th>\n",
       "      <td>0.500000</td>\n",
       "      <td>0.499927</td>\n",
       "      <td>0.498748</td>\n",
       "    </tr>\n",
       "    <tr>\n",
       "      <th>75%</th>\n",
       "      <td>0.750000</td>\n",
       "      <td>0.749913</td>\n",
       "      <td>0.707965</td>\n",
       "    </tr>\n",
       "    <tr>\n",
       "      <th>max</th>\n",
       "      <td>1.000000</td>\n",
       "      <td>1.000000</td>\n",
       "      <td>1.000000</td>\n",
       "    </tr>\n",
       "  </tbody>\n",
       "</table>\n",
       "</div>"
      ],
      "text/plain": [
       "                 age  estimated_salary      data_used\n",
       "count  243553.000000     243553.000000  243553.000000\n",
       "mean        0.501386          0.500166       0.499264\n",
       "std         0.293643          0.288533       0.245619\n",
       "min         0.000000          0.000000       0.000000\n",
       "25%         0.250000          0.250656       0.290282\n",
       "50%         0.500000          0.499927       0.498748\n",
       "75%         0.750000          0.749913       0.707965\n",
       "max         1.000000          1.000000       1.000000"
      ]
     },
     "execution_count": 44,
     "metadata": {},
     "output_type": "execute_result"
    }
   ],
   "source": [
    "df[cols_to_scale].describe()"
   ]
  },
  {
   "cell_type": "code",
   "execution_count": 45,
   "id": "78dea943-5198-4f68-9c9b-3e85b3ea1cad",
   "metadata": {},
   "outputs": [],
   "source": [
    "# Extract year and month from registration date\n",
    "\n",
    "df['Registration_year'] = df['date_of_registration'].dt.year\n",
    "df['Registration_month'] = df['date_of_registration'].dt.month"
   ]
  },
  {
   "cell_type": "code",
   "execution_count": 46,
   "id": "a268c15c-6ff1-428b-a5af-c7a012b767e6",
   "metadata": {},
   "outputs": [],
   "source": [
    "# Drop original date column\n",
    "df.drop('date_of_registration', axis=1, inplace=True)"
   ]
  },
  {
   "cell_type": "code",
   "execution_count": 47,
   "id": "698789cc-b6d9-46e9-b2ae-14edc2dfb9c7",
   "metadata": {},
   "outputs": [],
   "source": [
    "# Convert categorical features to numerical\n",
    "\n",
    "df = pd.get_dummies(df, columns=['state', 'city'], drop_first=True)"
   ]
  },
  {
   "cell_type": "code",
   "execution_count": 48,
   "id": "f3223d50-87c8-46c9-a175-f98d5d1a21d3",
   "metadata": {},
   "outputs": [],
   "source": [
    "# Split features among X and y \n",
    "\n",
    "X = df.drop('churn', axis=1)\n",
    "y = df['churn']"
   ]
  },
  {
   "cell_type": "code",
   "execution_count": 49,
   "id": "144ac9ad-731c-4f3e-9a78-96f0aa52ecb3",
   "metadata": {},
   "outputs": [],
   "source": [
    "# Train-test split\n",
    "\n",
    "from sklearn.model_selection import train_test_split\n",
    "\n",
    "X_train, X_test, y_train, y_test = train_test_split(\n",
    "    X, y, test_size=0.2, random_state=42, stratify=y\n",
    ")"
   ]
  },
  {
   "cell_type": "code",
   "execution_count": 50,
   "id": "0b7524c3-04a7-4724-a081-83a6b56b868d",
   "metadata": {},
   "outputs": [],
   "source": [
    "from sklearn.preprocessing import MinMaxScaler\n",
    "\n",
    "scaler = MinMaxScaler()\n",
    "X_train_scaled = scaler.fit_transform(X_train)\n",
    "X_test_scaled = scaler.transform(X_test)"
   ]
  },
  {
   "cell_type": "code",
   "execution_count": 51,
   "id": "06f132c9-23e3-4fcd-9bff-00aeeb6ae7dc",
   "metadata": {},
   "outputs": [
    {
     "data": {
      "text/html": [
       "<style>#sk-container-id-1 {\n",
       "  /* Definition of color scheme common for light and dark mode */\n",
       "  --sklearn-color-text: black;\n",
       "  --sklearn-color-line: gray;\n",
       "  /* Definition of color scheme for unfitted estimators */\n",
       "  --sklearn-color-unfitted-level-0: #fff5e6;\n",
       "  --sklearn-color-unfitted-level-1: #f6e4d2;\n",
       "  --sklearn-color-unfitted-level-2: #ffe0b3;\n",
       "  --sklearn-color-unfitted-level-3: chocolate;\n",
       "  /* Definition of color scheme for fitted estimators */\n",
       "  --sklearn-color-fitted-level-0: #f0f8ff;\n",
       "  --sklearn-color-fitted-level-1: #d4ebff;\n",
       "  --sklearn-color-fitted-level-2: #b3dbfd;\n",
       "  --sklearn-color-fitted-level-3: cornflowerblue;\n",
       "\n",
       "  /* Specific color for light theme */\n",
       "  --sklearn-color-text-on-default-background: var(--sg-text-color, var(--theme-code-foreground, var(--jp-content-font-color1, black)));\n",
       "  --sklearn-color-background: var(--sg-background-color, var(--theme-background, var(--jp-layout-color0, white)));\n",
       "  --sklearn-color-border-box: var(--sg-text-color, var(--theme-code-foreground, var(--jp-content-font-color1, black)));\n",
       "  --sklearn-color-icon: #696969;\n",
       "\n",
       "  @media (prefers-color-scheme: dark) {\n",
       "    /* Redefinition of color scheme for dark theme */\n",
       "    --sklearn-color-text-on-default-background: var(--sg-text-color, var(--theme-code-foreground, var(--jp-content-font-color1, white)));\n",
       "    --sklearn-color-background: var(--sg-background-color, var(--theme-background, var(--jp-layout-color0, #111)));\n",
       "    --sklearn-color-border-box: var(--sg-text-color, var(--theme-code-foreground, var(--jp-content-font-color1, white)));\n",
       "    --sklearn-color-icon: #878787;\n",
       "  }\n",
       "}\n",
       "\n",
       "#sk-container-id-1 {\n",
       "  color: var(--sklearn-color-text);\n",
       "}\n",
       "\n",
       "#sk-container-id-1 pre {\n",
       "  padding: 0;\n",
       "}\n",
       "\n",
       "#sk-container-id-1 input.sk-hidden--visually {\n",
       "  border: 0;\n",
       "  clip: rect(1px 1px 1px 1px);\n",
       "  clip: rect(1px, 1px, 1px, 1px);\n",
       "  height: 1px;\n",
       "  margin: -1px;\n",
       "  overflow: hidden;\n",
       "  padding: 0;\n",
       "  position: absolute;\n",
       "  width: 1px;\n",
       "}\n",
       "\n",
       "#sk-container-id-1 div.sk-dashed-wrapped {\n",
       "  border: 1px dashed var(--sklearn-color-line);\n",
       "  margin: 0 0.4em 0.5em 0.4em;\n",
       "  box-sizing: border-box;\n",
       "  padding-bottom: 0.4em;\n",
       "  background-color: var(--sklearn-color-background);\n",
       "}\n",
       "\n",
       "#sk-container-id-1 div.sk-container {\n",
       "  /* jupyter's `normalize.less` sets `[hidden] { display: none; }`\n",
       "     but bootstrap.min.css set `[hidden] { display: none !important; }`\n",
       "     so we also need the `!important` here to be able to override the\n",
       "     default hidden behavior on the sphinx rendered scikit-learn.org.\n",
       "     See: https://github.com/scikit-learn/scikit-learn/issues/21755 */\n",
       "  display: inline-block !important;\n",
       "  position: relative;\n",
       "}\n",
       "\n",
       "#sk-container-id-1 div.sk-text-repr-fallback {\n",
       "  display: none;\n",
       "}\n",
       "\n",
       "div.sk-parallel-item,\n",
       "div.sk-serial,\n",
       "div.sk-item {\n",
       "  /* draw centered vertical line to link estimators */\n",
       "  background-image: linear-gradient(var(--sklearn-color-text-on-default-background), var(--sklearn-color-text-on-default-background));\n",
       "  background-size: 2px 100%;\n",
       "  background-repeat: no-repeat;\n",
       "  background-position: center center;\n",
       "}\n",
       "\n",
       "/* Parallel-specific style estimator block */\n",
       "\n",
       "#sk-container-id-1 div.sk-parallel-item::after {\n",
       "  content: \"\";\n",
       "  width: 100%;\n",
       "  border-bottom: 2px solid var(--sklearn-color-text-on-default-background);\n",
       "  flex-grow: 1;\n",
       "}\n",
       "\n",
       "#sk-container-id-1 div.sk-parallel {\n",
       "  display: flex;\n",
       "  align-items: stretch;\n",
       "  justify-content: center;\n",
       "  background-color: var(--sklearn-color-background);\n",
       "  position: relative;\n",
       "}\n",
       "\n",
       "#sk-container-id-1 div.sk-parallel-item {\n",
       "  display: flex;\n",
       "  flex-direction: column;\n",
       "}\n",
       "\n",
       "#sk-container-id-1 div.sk-parallel-item:first-child::after {\n",
       "  align-self: flex-end;\n",
       "  width: 50%;\n",
       "}\n",
       "\n",
       "#sk-container-id-1 div.sk-parallel-item:last-child::after {\n",
       "  align-self: flex-start;\n",
       "  width: 50%;\n",
       "}\n",
       "\n",
       "#sk-container-id-1 div.sk-parallel-item:only-child::after {\n",
       "  width: 0;\n",
       "}\n",
       "\n",
       "/* Serial-specific style estimator block */\n",
       "\n",
       "#sk-container-id-1 div.sk-serial {\n",
       "  display: flex;\n",
       "  flex-direction: column;\n",
       "  align-items: center;\n",
       "  background-color: var(--sklearn-color-background);\n",
       "  padding-right: 1em;\n",
       "  padding-left: 1em;\n",
       "}\n",
       "\n",
       "\n",
       "/* Toggleable style: style used for estimator/Pipeline/ColumnTransformer box that is\n",
       "clickable and can be expanded/collapsed.\n",
       "- Pipeline and ColumnTransformer use this feature and define the default style\n",
       "- Estimators will overwrite some part of the style using the `sk-estimator` class\n",
       "*/\n",
       "\n",
       "/* Pipeline and ColumnTransformer style (default) */\n",
       "\n",
       "#sk-container-id-1 div.sk-toggleable {\n",
       "  /* Default theme specific background. It is overwritten whether we have a\n",
       "  specific estimator or a Pipeline/ColumnTransformer */\n",
       "  background-color: var(--sklearn-color-background);\n",
       "}\n",
       "\n",
       "/* Toggleable label */\n",
       "#sk-container-id-1 label.sk-toggleable__label {\n",
       "  cursor: pointer;\n",
       "  display: block;\n",
       "  width: 100%;\n",
       "  margin-bottom: 0;\n",
       "  padding: 0.5em;\n",
       "  box-sizing: border-box;\n",
       "  text-align: center;\n",
       "}\n",
       "\n",
       "#sk-container-id-1 label.sk-toggleable__label-arrow:before {\n",
       "  /* Arrow on the left of the label */\n",
       "  content: \"▸\";\n",
       "  float: left;\n",
       "  margin-right: 0.25em;\n",
       "  color: var(--sklearn-color-icon);\n",
       "}\n",
       "\n",
       "#sk-container-id-1 label.sk-toggleable__label-arrow:hover:before {\n",
       "  color: var(--sklearn-color-text);\n",
       "}\n",
       "\n",
       "/* Toggleable content - dropdown */\n",
       "\n",
       "#sk-container-id-1 div.sk-toggleable__content {\n",
       "  max-height: 0;\n",
       "  max-width: 0;\n",
       "  overflow: hidden;\n",
       "  text-align: left;\n",
       "  /* unfitted */\n",
       "  background-color: var(--sklearn-color-unfitted-level-0);\n",
       "}\n",
       "\n",
       "#sk-container-id-1 div.sk-toggleable__content.fitted {\n",
       "  /* fitted */\n",
       "  background-color: var(--sklearn-color-fitted-level-0);\n",
       "}\n",
       "\n",
       "#sk-container-id-1 div.sk-toggleable__content pre {\n",
       "  margin: 0.2em;\n",
       "  border-radius: 0.25em;\n",
       "  color: var(--sklearn-color-text);\n",
       "  /* unfitted */\n",
       "  background-color: var(--sklearn-color-unfitted-level-0);\n",
       "}\n",
       "\n",
       "#sk-container-id-1 div.sk-toggleable__content.fitted pre {\n",
       "  /* unfitted */\n",
       "  background-color: var(--sklearn-color-fitted-level-0);\n",
       "}\n",
       "\n",
       "#sk-container-id-1 input.sk-toggleable__control:checked~div.sk-toggleable__content {\n",
       "  /* Expand drop-down */\n",
       "  max-height: 200px;\n",
       "  max-width: 100%;\n",
       "  overflow: auto;\n",
       "}\n",
       "\n",
       "#sk-container-id-1 input.sk-toggleable__control:checked~label.sk-toggleable__label-arrow:before {\n",
       "  content: \"▾\";\n",
       "}\n",
       "\n",
       "/* Pipeline/ColumnTransformer-specific style */\n",
       "\n",
       "#sk-container-id-1 div.sk-label input.sk-toggleable__control:checked~label.sk-toggleable__label {\n",
       "  color: var(--sklearn-color-text);\n",
       "  background-color: var(--sklearn-color-unfitted-level-2);\n",
       "}\n",
       "\n",
       "#sk-container-id-1 div.sk-label.fitted input.sk-toggleable__control:checked~label.sk-toggleable__label {\n",
       "  background-color: var(--sklearn-color-fitted-level-2);\n",
       "}\n",
       "\n",
       "/* Estimator-specific style */\n",
       "\n",
       "/* Colorize estimator box */\n",
       "#sk-container-id-1 div.sk-estimator input.sk-toggleable__control:checked~label.sk-toggleable__label {\n",
       "  /* unfitted */\n",
       "  background-color: var(--sklearn-color-unfitted-level-2);\n",
       "}\n",
       "\n",
       "#sk-container-id-1 div.sk-estimator.fitted input.sk-toggleable__control:checked~label.sk-toggleable__label {\n",
       "  /* fitted */\n",
       "  background-color: var(--sklearn-color-fitted-level-2);\n",
       "}\n",
       "\n",
       "#sk-container-id-1 div.sk-label label.sk-toggleable__label,\n",
       "#sk-container-id-1 div.sk-label label {\n",
       "  /* The background is the default theme color */\n",
       "  color: var(--sklearn-color-text-on-default-background);\n",
       "}\n",
       "\n",
       "/* On hover, darken the color of the background */\n",
       "#sk-container-id-1 div.sk-label:hover label.sk-toggleable__label {\n",
       "  color: var(--sklearn-color-text);\n",
       "  background-color: var(--sklearn-color-unfitted-level-2);\n",
       "}\n",
       "\n",
       "/* Label box, darken color on hover, fitted */\n",
       "#sk-container-id-1 div.sk-label.fitted:hover label.sk-toggleable__label.fitted {\n",
       "  color: var(--sklearn-color-text);\n",
       "  background-color: var(--sklearn-color-fitted-level-2);\n",
       "}\n",
       "\n",
       "/* Estimator label */\n",
       "\n",
       "#sk-container-id-1 div.sk-label label {\n",
       "  font-family: monospace;\n",
       "  font-weight: bold;\n",
       "  display: inline-block;\n",
       "  line-height: 1.2em;\n",
       "}\n",
       "\n",
       "#sk-container-id-1 div.sk-label-container {\n",
       "  text-align: center;\n",
       "}\n",
       "\n",
       "/* Estimator-specific */\n",
       "#sk-container-id-1 div.sk-estimator {\n",
       "  font-family: monospace;\n",
       "  border: 1px dotted var(--sklearn-color-border-box);\n",
       "  border-radius: 0.25em;\n",
       "  box-sizing: border-box;\n",
       "  margin-bottom: 0.5em;\n",
       "  /* unfitted */\n",
       "  background-color: var(--sklearn-color-unfitted-level-0);\n",
       "}\n",
       "\n",
       "#sk-container-id-1 div.sk-estimator.fitted {\n",
       "  /* fitted */\n",
       "  background-color: var(--sklearn-color-fitted-level-0);\n",
       "}\n",
       "\n",
       "/* on hover */\n",
       "#sk-container-id-1 div.sk-estimator:hover {\n",
       "  /* unfitted */\n",
       "  background-color: var(--sklearn-color-unfitted-level-2);\n",
       "}\n",
       "\n",
       "#sk-container-id-1 div.sk-estimator.fitted:hover {\n",
       "  /* fitted */\n",
       "  background-color: var(--sklearn-color-fitted-level-2);\n",
       "}\n",
       "\n",
       "/* Specification for estimator info (e.g. \"i\" and \"?\") */\n",
       "\n",
       "/* Common style for \"i\" and \"?\" */\n",
       "\n",
       ".sk-estimator-doc-link,\n",
       "a:link.sk-estimator-doc-link,\n",
       "a:visited.sk-estimator-doc-link {\n",
       "  float: right;\n",
       "  font-size: smaller;\n",
       "  line-height: 1em;\n",
       "  font-family: monospace;\n",
       "  background-color: var(--sklearn-color-background);\n",
       "  border-radius: 1em;\n",
       "  height: 1em;\n",
       "  width: 1em;\n",
       "  text-decoration: none !important;\n",
       "  margin-left: 1ex;\n",
       "  /* unfitted */\n",
       "  border: var(--sklearn-color-unfitted-level-1) 1pt solid;\n",
       "  color: var(--sklearn-color-unfitted-level-1);\n",
       "}\n",
       "\n",
       ".sk-estimator-doc-link.fitted,\n",
       "a:link.sk-estimator-doc-link.fitted,\n",
       "a:visited.sk-estimator-doc-link.fitted {\n",
       "  /* fitted */\n",
       "  border: var(--sklearn-color-fitted-level-1) 1pt solid;\n",
       "  color: var(--sklearn-color-fitted-level-1);\n",
       "}\n",
       "\n",
       "/* On hover */\n",
       "div.sk-estimator:hover .sk-estimator-doc-link:hover,\n",
       ".sk-estimator-doc-link:hover,\n",
       "div.sk-label-container:hover .sk-estimator-doc-link:hover,\n",
       ".sk-estimator-doc-link:hover {\n",
       "  /* unfitted */\n",
       "  background-color: var(--sklearn-color-unfitted-level-3);\n",
       "  color: var(--sklearn-color-background);\n",
       "  text-decoration: none;\n",
       "}\n",
       "\n",
       "div.sk-estimator.fitted:hover .sk-estimator-doc-link.fitted:hover,\n",
       ".sk-estimator-doc-link.fitted:hover,\n",
       "div.sk-label-container:hover .sk-estimator-doc-link.fitted:hover,\n",
       ".sk-estimator-doc-link.fitted:hover {\n",
       "  /* fitted */\n",
       "  background-color: var(--sklearn-color-fitted-level-3);\n",
       "  color: var(--sklearn-color-background);\n",
       "  text-decoration: none;\n",
       "}\n",
       "\n",
       "/* Span, style for the box shown on hovering the info icon */\n",
       ".sk-estimator-doc-link span {\n",
       "  display: none;\n",
       "  z-index: 9999;\n",
       "  position: relative;\n",
       "  font-weight: normal;\n",
       "  right: .2ex;\n",
       "  padding: .5ex;\n",
       "  margin: .5ex;\n",
       "  width: min-content;\n",
       "  min-width: 20ex;\n",
       "  max-width: 50ex;\n",
       "  color: var(--sklearn-color-text);\n",
       "  box-shadow: 2pt 2pt 4pt #999;\n",
       "  /* unfitted */\n",
       "  background: var(--sklearn-color-unfitted-level-0);\n",
       "  border: .5pt solid var(--sklearn-color-unfitted-level-3);\n",
       "}\n",
       "\n",
       ".sk-estimator-doc-link.fitted span {\n",
       "  /* fitted */\n",
       "  background: var(--sklearn-color-fitted-level-0);\n",
       "  border: var(--sklearn-color-fitted-level-3);\n",
       "}\n",
       "\n",
       ".sk-estimator-doc-link:hover span {\n",
       "  display: block;\n",
       "}\n",
       "\n",
       "/* \"?\"-specific style due to the `<a>` HTML tag */\n",
       "\n",
       "#sk-container-id-1 a.estimator_doc_link {\n",
       "  float: right;\n",
       "  font-size: 1rem;\n",
       "  line-height: 1em;\n",
       "  font-family: monospace;\n",
       "  background-color: var(--sklearn-color-background);\n",
       "  border-radius: 1rem;\n",
       "  height: 1rem;\n",
       "  width: 1rem;\n",
       "  text-decoration: none;\n",
       "  /* unfitted */\n",
       "  color: var(--sklearn-color-unfitted-level-1);\n",
       "  border: var(--sklearn-color-unfitted-level-1) 1pt solid;\n",
       "}\n",
       "\n",
       "#sk-container-id-1 a.estimator_doc_link.fitted {\n",
       "  /* fitted */\n",
       "  border: var(--sklearn-color-fitted-level-1) 1pt solid;\n",
       "  color: var(--sklearn-color-fitted-level-1);\n",
       "}\n",
       "\n",
       "/* On hover */\n",
       "#sk-container-id-1 a.estimator_doc_link:hover {\n",
       "  /* unfitted */\n",
       "  background-color: var(--sklearn-color-unfitted-level-3);\n",
       "  color: var(--sklearn-color-background);\n",
       "  text-decoration: none;\n",
       "}\n",
       "\n",
       "#sk-container-id-1 a.estimator_doc_link.fitted:hover {\n",
       "  /* fitted */\n",
       "  background-color: var(--sklearn-color-fitted-level-3);\n",
       "}\n",
       "</style><div id=\"sk-container-id-1\" class=\"sk-top-container\"><div class=\"sk-text-repr-fallback\"><pre>LogisticRegression(class_weight=&#x27;balanced&#x27;, max_iter=1000, solver=&#x27;liblinear&#x27;)</pre><b>In a Jupyter environment, please rerun this cell to show the HTML representation or trust the notebook. <br />On GitHub, the HTML representation is unable to render, please try loading this page with nbviewer.org.</b></div><div class=\"sk-container\" hidden><div class=\"sk-item\"><div class=\"sk-estimator fitted sk-toggleable\"><input class=\"sk-toggleable__control sk-hidden--visually\" id=\"sk-estimator-id-1\" type=\"checkbox\" checked><label for=\"sk-estimator-id-1\" class=\"sk-toggleable__label fitted sk-toggleable__label-arrow fitted\">&nbsp;&nbsp;LogisticRegression<a class=\"sk-estimator-doc-link fitted\" rel=\"noreferrer\" target=\"_blank\" href=\"https://scikit-learn.org/1.5/modules/generated/sklearn.linear_model.LogisticRegression.html\">?<span>Documentation for LogisticRegression</span></a><span class=\"sk-estimator-doc-link fitted\">i<span>Fitted</span></span></label><div class=\"sk-toggleable__content fitted\"><pre>LogisticRegression(class_weight=&#x27;balanced&#x27;, max_iter=1000, solver=&#x27;liblinear&#x27;)</pre></div> </div></div></div></div>"
      ],
      "text/plain": [
       "LogisticRegression(class_weight='balanced', max_iter=1000, solver='liblinear')"
      ]
     },
     "execution_count": 51,
     "metadata": {},
     "output_type": "execute_result"
    }
   ],
   "source": [
    "# Train Logistic Regression Model\n",
    "\n",
    "from sklearn.linear_model import LogisticRegression\n",
    "\n",
    "logreg = LogisticRegression(class_weight='balanced', max_iter=1000, solver='liblinear')\n",
    "logreg.fit(X_train_scaled, y_train)"
   ]
  },
  {
   "cell_type": "code",
   "execution_count": 52,
   "id": "0857a9a6-176e-42e6-abfd-9615b6651bb2",
   "metadata": {},
   "outputs": [
    {
     "name": "stdout",
     "output_type": "stream",
     "text": [
      "Accuracy: 0.5040750549157275\n",
      "Confusion Matrix:\n",
      " [[19692 19254]\n",
      " [ 4903  4862]]\n",
      "Classification Report:\n",
      "               precision    recall  f1-score   support\n",
      "\n",
      "           0       0.80      0.51      0.62     38946\n",
      "           1       0.20      0.50      0.29      9765\n",
      "\n",
      "    accuracy                           0.50     48711\n",
      "   macro avg       0.50      0.50      0.45     48711\n",
      "weighted avg       0.68      0.50      0.55     48711\n",
      "\n"
     ]
    }
   ],
   "source": [
    "# Predict and evaluate\n",
    "\n",
    "y_pred = logreg.predict(X_test_scaled)\n",
    "\n",
    "from sklearn.metrics import accuracy_score, confusion_matrix, classification_report\n",
    "\n",
    "print(\"Accuracy:\", accuracy_score(y_test, y_pred))\n",
    "print(\"Confusion Matrix:\\n\", confusion_matrix(y_test, y_pred))\n",
    "print(\"Classification Report:\\n\", classification_report(y_test, y_pred))"
   ]
  },
  {
   "cell_type": "code",
   "execution_count": 53,
   "id": "83e16b5f-77ce-419f-bf44-a8759ccf2314",
   "metadata": {},
   "outputs": [
    {
     "data": {
      "image/png": "[encoded data removed]",
      "text/plain": [
       "<Figure size 640x480 with 2 Axes>"
      ]
     },
     "metadata": {},
     "output_type": "display_data"
    }
   ],
   "source": [
    "import matplotlib.pyplot as plt\n",
    "from sklearn.metrics import ConfusionMatrixDisplay\n",
    "\n",
    "cm = confusion_matrix(y_test, y_pred)\n",
    "disp = ConfusionMatrixDisplay(confusion_matrix=cm, display_labels=logreg.classes_)\n",
    "disp.plot(cmap='Blues')\n",
    "plt.title(\"Confusion Matrix\")\n",
    "plt.show()"
   ]
  },
  {
   "cell_type": "code",
   "execution_count": 54,
   "id": "c6da7907-e71a-4e4f-b95f-50806479d501",
   "metadata": {},
   "outputs": [
    {
     "data": {
      "text/plain": [
       "customer_id                       int64\n",
       "gender                            int64\n",
       "age                             float64\n",
       "pincode                           int64\n",
       "num_dependents                    int64\n",
       "estimated_salary                float64\n",
       "calls_made                        int64\n",
       "sms_sent                          int64\n",
       "data_used                       float64\n",
       "telecom_partner_BSNL               bool\n",
       "telecom_partner_Reliance Jio       bool\n",
       "telecom_partner_Vodafone           bool\n",
       "Registration_year                 int32\n",
       "Registration_month                int32\n",
       "state_Arunachal Pradesh            bool\n",
       "state_Assam                        bool\n",
       "state_Bihar                        bool\n",
       "state_Chhattisgarh                 bool\n",
       "state_Goa                          bool\n",
       "state_Gujarat                      bool\n",
       "state_Haryana                      bool\n",
       "state_Himachal Pradesh             bool\n",
       "state_Jharkhand                    bool\n",
       "state_Karnataka                    bool\n",
       "state_Kerala                       bool\n",
       "state_Madhya Pradesh               bool\n",
       "state_Maharashtra                  bool\n",
       "state_Manipur                      bool\n",
       "state_Meghalaya                    bool\n",
       "state_Mizoram                      bool\n",
       "state_Nagaland                     bool\n",
       "state_Odisha                       bool\n",
       "state_Punjab                       bool\n",
       "state_Rajasthan                    bool\n",
       "state_Sikkim                       bool\n",
       "state_Tamil Nadu                   bool\n",
       "state_Telangana                    bool\n",
       "state_Tripura                      bool\n",
       "state_Uttar Pradesh                bool\n",
       "state_Uttarakhand                  bool\n",
       "state_West Bengal                  bool\n",
       "city_Chennai                       bool\n",
       "city_Delhi                         bool\n",
       "city_Hyderabad                     bool\n",
       "city_Kolkata                       bool\n",
       "city_Mumbai                        bool\n",
       "dtype: object"
      ]
     },
     "execution_count": 54,
     "metadata": {},
     "output_type": "execute_result"
    }
   ],
   "source": [
    "X.dtypes"
   ]
  },
  {
   "cell_type": "code",
   "execution_count": 55,
   "id": "1061d245-1f55-4e1e-9871-e4b03ba5b940",
   "metadata": {},
   "outputs": [],
   "source": [
    "import pandas as pd"
   ]
  },
  {
   "cell_type": "code",
   "execution_count": 56,
   "id": "6078d87a-a53f-41c7-8be5-79de1a5c34e4",
   "metadata": {},
   "outputs": [],
   "source": [
    "# Get coefficients and feature names\n",
    "\n",
    "coefficients = logreg.coef_[0]  # array of coefficients\n",
    "features = X_train.columns      # feature names"
   ]
  },
  {
   "cell_type": "code",
   "execution_count": 57,
   "id": "c233dd94-324b-4d32-bee5-341e20ebd8a4",
   "metadata": {},
   "outputs": [],
   "source": [
    "# Create DataFrame\n",
    "coef_df = pd.DataFrame({'Feature': features, 'Coefficient': coefficients})"
   ]
  },
  {
   "cell_type": "code",
   "execution_count": 58,
   "id": "eb21ddb4-e2b2-446e-9cee-9418875f7d58",
   "metadata": {},
   "outputs": [],
   "source": [
    "# Sort by absolute value to see impact\n",
    "\n",
    "coef_df['abs_coef'] = coef_df['Coefficient'].abs()\n",
    "coef_df = coef_df.sort_values(by='abs_coef', ascending=False).drop('abs_coef', axis=1)"
   ]
  },
  {
   "cell_type": "code",
   "execution_count": 59,
   "id": "30325899-2d54-406d-b4a7-155756ef8e58",
   "metadata": {},
   "outputs": [
    {
     "name": "stdout",
     "output_type": "stream",
     "text": [
      "                 Feature  Coefficient\n",
      "0            customer_id    -0.255344\n",
      "12     Registration_year     0.244028\n",
      "13    Registration_month     0.073540\n",
      "40     state_West Bengal    -0.051354\n",
      "22       state_Jharkhand     0.050158\n",
      "17    state_Chhattisgarh    -0.046248\n",
      "29         state_Mizoram     0.041029\n",
      "5       estimated_salary    -0.034460\n",
      "1                 gender    -0.028447\n",
      "7               sms_sent    -0.027887\n",
      "42            city_Delhi    -0.026898\n",
      "39     state_Uttarakhand     0.026658\n",
      "23       state_Karnataka     0.025585\n",
      "4         num_dependents    -0.023312\n",
      "9   telecom_partner_BSNL    -0.022745\n"
     ]
    }
   ],
   "source": [
    "# Display\n",
    "print(coef_df.head(15))"
   ]
  },
  {
   "cell_type": "code",
   "execution_count": 60,
   "id": "c67264b1-6f43-4d6d-9fac-803a7fe1051b",
   "metadata": {},
   "outputs": [
    {
     "name": "stderr",
     "output_type": "stream",
     "text": [
      "D:\\Anaconda\\Lib\\site-packages\\sklearn\\base.py:486: UserWarning: X has feature names, but LogisticRegression was fitted without feature names\n",
      "  warnings.warn(\n"
     ]
    },
    {
     "data": {
      "image/png": "[encoded data removed]",
      "text/plain": [
       "<Figure size 640x480 with 1 Axes>"
      ]
     },
     "metadata": {},
     "output_type": "display_data"
    }
   ],
   "source": [
    "from sklearn.metrics import roc_curve, auc\n",
    "\n",
    "y_prob = logreg.predict_proba(X_test)[:, 1]  # Probability of class 1 (churn)\n",
    "fpr, tpr, _ = roc_curve(y_test, y_prob)\n",
    "roc_auc = auc(fpr, tpr)\n",
    "\n",
    "plt.figure()\n",
    "plt.plot(fpr, tpr, color='darkorange', label=f\"ROC Curve (AUC = {roc_auc:.2f})\")\n",
    "plt.plot([0, 1], [0, 1], color='navy', linestyle='--')  # Baseline\n",
    "plt.xlabel('False Positive Rate')\n",
    "plt.ylabel('True Positive Rate')\n",
    "plt.title('Receiver Operating Characteristic')\n",
    "plt.legend()\n",
    "plt.show()"
   ]
  },
  {
   "cell_type": "code",
   "execution_count": 61,
   "id": "a99980dc-260c-4e46-bbd4-d382ddf3f1b0",
   "metadata": {},
   "outputs": [
    {
     "data": {
      "image/png": "[encoded data removed]",
      "text/plain": [
       "<Figure size 1000x600 with 1 Axes>"
      ]
     },
     "metadata": {},
     "output_type": "display_data"
    }
   ],
   "source": [
    "coefficients = pd.Series(logreg.coef_[0], index=X_train.columns)\n",
    "top_features = coefficients.abs().sort_values(ascending=False).head(15)\n",
    "\n",
    "plt.figure(figsize=(10, 6))\n",
    "top_features.plot(kind='barh', color='skyblue')\n",
    "plt.title(\"Top 15 Important Features (Logistic Regression Coefficients)\")\n",
    "plt.xlabel(\"Coefficient Magnitude\")\n",
    "plt.gca().invert_yaxis()\n",
    "plt.show()"
   ]
  },
  {
   "cell_type": "code",
   "execution_count": 62,
   "id": "47789c31-ed8b-4a9a-a20b-6d21b68f51f5",
   "metadata": {},
   "outputs": [],
   "source": [
    "df_raw = pd.read_excel(\"telecom_churn.xlsx\")"
   ]
  },
  {
   "cell_type": "code",
   "execution_count": 63,
   "id": "8800413d-afc9-4861-a245-ac0bd5654c63",
   "metadata": {},
   "outputs": [],
   "source": [
    "df['telecom_partner'] = df_raw['telecom_partner']"
   ]
  },
  {
   "cell_type": "code",
   "execution_count": 64,
   "id": "885ebe10-c96e-4c6e-9659-2a83e65538c2",
   "metadata": {},
   "outputs": [
    {
     "data": {
      "image/png": "[encoded data removed]",
      "text/plain": [
       "<Figure size 640x480 with 1 Axes>"
      ]
     },
     "metadata": {},
     "output_type": "display_data"
    }
   ],
   "source": [
    "import seaborn as sns\n",
    "\n",
    "# Re-merge with original df for visual analysis\n",
    "df['churn'] = y  # Original target\n",
    "sns.barplot(x='telecom_partner', y='churn', data=df)\n",
    "plt.title(\"Churn Rate by Telecom Partner\")\n",
    "plt.ylabel(\"Churn Rate\")\n",
    "plt.xlabel(\"Telecom Partner\")\n",
    "plt.show()"
   ]
  },
  {
   "cell_type": "code",
   "execution_count": 65,
   "id": "1c7dd7d8-27b4-4c2d-9336-8690d4584444",
   "metadata": {},
   "outputs": [
    {
     "data": {
      "image/png": "[encoded data removed]",
      "text/plain": [
       "<Figure size 800x500 with 1 Axes>"
      ]
     },
     "metadata": {},
     "output_type": "display_data"
    }
   ],
   "source": [
    "plt.figure(figsize=(8,5))\n",
    "sns.barplot(x='Registration_year', y='churn', data=df)\n",
    "plt.title(\"Churn Rate by Registration Year\")\n",
    "plt.ylabel(\"Churn Rate\")\n",
    "plt.show()"
   ]
  },
  {
   "cell_type": "code",
   "execution_count": 66,
   "id": "88d3ca3f-e289-4583-a45b-bd54fd7424de",
   "metadata": {},
   "outputs": [
    {
     "data": {
      "image/png": "[encoded data removed]",
      "text/plain": [
       "<Figure size 600x400 with 1 Axes>"
      ]
     },
     "metadata": {},
     "output_type": "display_data"
    }
   ],
   "source": [
    "plt.figure(figsize=(6,4))\n",
    "sns.barplot(x='gender', y='churn', hue='gender', data=df)\n",
    "plt.title(\"Churn Rate by Gender\")\n",
    "plt.ylabel(\"Churn Rate\")\n",
    "plt.legend(title=\"Gender\")  # Legend title\n",
    "plt.show()\n",
    "\n",
    "# 0--> Male\n",
    "# 1--> Female\n",
    "# Due to encoding "
   ]
  },
  {
   "cell_type": "code",
   "execution_count": 67,
   "id": "6ed576e2-4831-430b-8c65-4180aadf5f53",
   "metadata": {},
   "outputs": [],
   "source": [
    "# Age column is normalized (scaled between 0 and 1) — not actual age values like 25, 30.\n",
    "# Age column is normalized (scaled between 0 and 1) — not actual age values like 25, 30, etc.\n",
    "\n",
    "# original_age = scaled_value * (max_age - min_age) + min_age\n",
    "\n",
    "df['actual_age'] = df['age'] * (74 - 18) + 18  # scaling back"
   ]
  },
  {
   "cell_type": "code",
   "execution_count": 68,
   "id": "a8451ff1-13b5-487a-8d55-c5998e5ebe5c",
   "metadata": {},
   "outputs": [
    {
     "name": "stdout",
     "output_type": "stream",
     "text": [
      "count    243553.000000\n",
      "mean         46.077609\n",
      "std          16.444029\n",
      "min          18.000000\n",
      "25%          32.000000\n",
      "50%          46.000000\n",
      "75%          60.000000\n",
      "max          74.000000\n",
      "Name: actual_age, dtype: float64\n"
     ]
    }
   ],
   "source": [
    "print(df['actual_age'].describe())"
   ]
  },
  {
   "cell_type": "code",
   "execution_count": 69,
   "id": "8795427b-a3b9-4688-856b-d7fb75ef96f4",
   "metadata": {},
   "outputs": [],
   "source": [
    "df['age_group'] = pd.cut(\n",
    "    df['actual_age'], \n",
    "    bins=[0, 25, 35, 45, 55, 100], \n",
    "    labels=['<25', '25-34', '35-44', '45-54', '55+']\n",
    ")"
   ]
  },
  {
   "cell_type": "code",
   "execution_count": 70,
   "id": "d24a3da5-6094-4313-b6ef-cb30e38bf9da",
   "metadata": {},
   "outputs": [
    {
     "name": "stdout",
     "output_type": "stream",
     "text": [
      "age_group\n",
      "55+      81571\n",
      "45-54    43005\n",
      "35-44    42649\n",
      "25-34    42302\n",
      "<25      34026\n",
      "Name: count, dtype: int64\n"
     ]
    }
   ],
   "source": [
    "print(df['age_group'].value_counts())"
   ]
  },
  {
   "cell_type": "code",
   "execution_count": 71,
   "id": "433f27e6-2b37-46b2-bc2b-96e53337a1b2",
   "metadata": {},
   "outputs": [
    {
     "data": {
      "image/png": "[encoded data removed]",
      "text/plain": [
       "<Figure size 700x500 with 1 Axes>"
      ]
     },
     "metadata": {},
     "output_type": "display_data"
    }
   ],
   "source": [
    "plt.figure(figsize=(7,5))\n",
    "sns.barplot(x='age_group', y='churn', data=df)\n",
    "plt.title(\"Churn Rate by Age Group\")\n",
    "plt.ylabel(\"Churn Rate\")\n",
    "plt.xlabel(\"Age Group\")\n",
    "plt.show()"
   ]
  },
  {
   "cell_type": "code",
   "execution_count": 72,
   "id": "9d80e724-6ba1-4667-a84b-b81a5a62fbed",
   "metadata": {},
   "outputs": [
    {
     "name": "stdout",
     "output_type": "stream",
     "text": [
      "Index(['customer_id', 'gender', 'age', 'pincode', 'num_dependents',\n",
      "       'estimated_salary', 'calls_made', 'sms_sent', 'data_used', 'churn',\n",
      "       'telecom_partner_BSNL', 'telecom_partner_Reliance Jio',\n",
      "       'telecom_partner_Vodafone', 'Registration_year', 'Registration_month',\n",
      "       'state_Arunachal Pradesh', 'state_Assam', 'state_Bihar',\n",
      "       'state_Chhattisgarh', 'state_Goa', 'state_Gujarat', 'state_Haryana',\n",
      "       'state_Himachal Pradesh', 'state_Jharkhand', 'state_Karnataka',\n",
      "       'state_Kerala', 'state_Madhya Pradesh', 'state_Maharashtra',\n",
      "       'state_Manipur', 'state_Meghalaya', 'state_Mizoram', 'state_Nagaland',\n",
      "       'state_Odisha', 'state_Punjab', 'state_Rajasthan', 'state_Sikkim',\n",
      "       'state_Tamil Nadu', 'state_Telangana', 'state_Tripura',\n",
      "       'state_Uttar Pradesh', 'state_Uttarakhand', 'state_West Bengal',\n",
      "       'city_Chennai', 'city_Delhi', 'city_Hyderabad', 'city_Kolkata',\n",
      "       'city_Mumbai', 'telecom_partner', 'actual_age', 'age_group'],\n",
      "      dtype='object')\n"
     ]
    }
   ],
   "source": [
    "print(df.columns)"
   ]
  },
  {
   "cell_type": "code",
   "execution_count": 84,
   "id": "9582b888-6634-441b-ac53-9c2dd09ebcc2",
   "metadata": {},
   "outputs": [
    {
     "data": {
      "image/png": "[encoded data removed]",
      "text/plain": [
       "<Figure size 800x500 with 1 Axes>"
      ]
     },
     "metadata": {},
     "output_type": "display_data"
    }
   ],
   "source": [
    "plt.figure(figsize=(8,5))\n",
    "sns.barplot(\n",
    "    x='Registration_year', \n",
    "    y='churn', \n",
    "    data=df, \n",
    "    estimator=np.mean, \n",
    "    hue='Registration_year',       # Assign hue\n",
    "    palette='Blues_d', \n",
    "    legend=False                   # Hide redundant legend\n",
    ")\n",
    "plt.title(\"Churn Rate by Registration Year\")\n",
    "plt.ylabel(\"Churn Rate\")\n",
    "plt.xlabel(\"Registration Year\")\n",
    "plt.xticks(rotation=45)\n",
    "plt.grid(axis='y', linestyle='--', alpha=0.7)\n",
    "plt.tight_layout()\n",
    "plt.show()"
   ]
  },
  {
   "cell_type": "code",
   "execution_count": 86,
   "id": "09653da0-86a4-4048-9c3d-ef903853707b",
   "metadata": {},
   "outputs": [],
   "source": [
    "# Step 1: Get top 5 states by customer count\n",
    "df['state'] = df_raw['state']\n",
    "top_states = df['state'].value_counts().nlargest(5).index.tolist()"
   ]
  },
  {
   "cell_type": "code",
   "execution_count": 87,
   "id": "e7792f78-c0e6-436f-8613-82a75e9e7b56",
   "metadata": {},
   "outputs": [],
   "source": [
    "# Step 2: Filter data to include only those states\n",
    "df_top_states = df[df['state'].isin(top_states)]"
   ]
  },
  {
   "cell_type": "code",
   "execution_count": 88,
   "id": "0585381f-78d1-4a5c-b6d2-a540afbeaa89",
   "metadata": {},
   "outputs": [
    {
     "data": {
      "image/png": "[encoded data removed]",
      "text/plain": [
       "<Figure size 800x500 with 1 Axes>"
      ]
     },
     "metadata": {},
     "output_type": "display_data"
    }
   ],
   "source": [
    "# Step 3: Plot churn rate by state\n",
    "plt.figure(figsize=(8,5))\n",
    "sns.barplot(\n",
    "    x='state',\n",
    "    y='churn',\n",
    "    data=df_top_states,\n",
    "    hue=\"state\",\n",
    "    estimator=np.mean,\n",
    "    palette='Set2'\n",
    ")\n",
    "plt.title(\"Churn Rate by Top 5 States\")\n",
    "plt.ylabel(\"Churn Rate\")\n",
    "plt.xlabel(\"State\")\n",
    "plt.grid(axis='y', linestyle='--', alpha=0.7)\n",
    "plt.tight_layout()\n",
    "plt.show()"
   ]
  },
  {
   "cell_type": "code",
   "execution_count": 89,
   "id": "caa5c882-0a70-47c0-b42f-24cf23ee2522",
   "metadata": {},
   "outputs": [
    {
     "data": {
      "image/png": "[encoded data removed]",
      "text/plain": [
       "<Figure size 800x500 with 1 Axes>"
      ]
     },
     "metadata": {},
     "output_type": "display_data"
    }
   ],
   "source": [
    "# Create percentile-based bins from normalized salary\n",
    "df['salary_band'] = pd.qcut(df['estimated_salary'], \n",
    "                            q=5, \n",
    "                            labels=['Lowest 20%', 'Low 20-40%', 'Mid 40-60%', 'High 60-80%', 'Top 20%'])\n",
    "\n",
    "# Plot churn by salary bands\n",
    "plt.figure(figsize=(8, 5))\n",
    "sns.barplot(x='salary_band', y='churn', data=df, estimator=np.mean, hue='salary_band', palette='YlOrBr', legend=False)\n",
    "plt.title(\"Churn Rate by Salary Band (Normalized Salary)\")\n",
    "plt.xlabel(\"Salary Band\")\n",
    "plt.ylabel(\"Churn Rate\")\n",
    "plt.xticks(rotation=15)\n",
    "plt.tight_layout()\n",
    "plt.show()"
   ]
  },
  {
   "cell_type": "code",
   "execution_count": 90,
   "id": "e7a3f0c1-7ecd-45c8-a412-c0e854cd397e",
   "metadata": {},
   "outputs": [],
   "source": [
    "# Feature Engineering\n",
    "\n",
    "# Set current date (assumed July 2025)\n",
    "current_year = 2025\n",
    "current_month = 7\n",
    "\n",
    "# Calculate tenure in months\n",
    "df['tenure_months'] = (current_year - df['Registration_year']) * 12 + (current_month - df['Registration_month'])"
   ]
  },
  {
   "cell_type": "code",
   "execution_count": 91,
   "id": "22c234b3-f82d-44bb-a968-24d418647046",
   "metadata": {},
   "outputs": [
    {
     "data": {
      "text/plain": [
       "count    243553.000000\n",
       "mean         46.465948\n",
       "std          11.564963\n",
       "min          26.000000\n",
       "25%          36.000000\n",
       "50%          46.000000\n",
       "75%          57.000000\n",
       "max          66.000000\n",
       "Name: tenure_months, dtype: float64"
      ]
     },
     "execution_count": 91,
     "metadata": {},
     "output_type": "execute_result"
    }
   ],
   "source": [
    "df['tenure_months'].describe()"
   ]
  },
  {
   "cell_type": "code",
   "execution_count": 92,
   "id": "12966e6f-2739-4c65-a1d0-7230ad2d6901",
   "metadata": {},
   "outputs": [],
   "source": [
    "df['low_usage'] = ((df['calls_made'] < 10) &\n",
    "                   (df['sms_sent'] < 5) &\n",
    "                   (df['data_used'] < 0.5)).astype(int)"
   ]
  },
  {
   "cell_type": "code",
   "execution_count": 93,
   "id": "f28d1103-4456-4811-9d9f-0aac952b9756",
   "metadata": {},
   "outputs": [
    {
     "data": {
      "text/plain": [
       "low_usage\n",
       "0    0.994239\n",
       "1    0.005761\n",
       "Name: proportion, dtype: float64"
      ]
     },
     "execution_count": 93,
     "metadata": {},
     "output_type": "execute_result"
    }
   ],
   "source": [
    "df['low_usage'].value_counts(normalize=True)"
   ]
  },
  {
   "cell_type": "code",
   "execution_count": 94,
   "id": "94ca8f6a-e214-4149-926f-6f7bf8a24e3c",
   "metadata": {},
   "outputs": [],
   "source": [
    "# Avoid division by zero\n",
    "df['dependents_ratio'] = df['num_dependents'] / (df['estimated_salary'] / 10000 + 1)\n",
    "\n",
    "# Flag top 25% as high dependents\n",
    "threshold = df['dependents_ratio'].quantile(0.75)\n",
    "df['high_dependents_ratio'] = (df['dependents_ratio'] > threshold).astype(int)"
   ]
  },
  {
   "cell_type": "code",
   "execution_count": 95,
   "id": "fc5ebd74-841f-457d-86a8-3dd40a45d511",
   "metadata": {},
   "outputs": [
    {
     "data": {
      "text/plain": [
       "high_dependents_ratio\n",
       "0    0.750001\n",
       "1    0.249999\n",
       "Name: proportion, dtype: float64"
      ]
     },
     "execution_count": 95,
     "metadata": {},
     "output_type": "execute_result"
    }
   ],
   "source": [
    "df['high_dependents_ratio'].value_counts(normalize=True)"
   ]
  },
  {
   "cell_type": "code",
   "execution_count": 96,
   "id": "b6839fba-bb3e-44fa-92c7-aa580648634e",
   "metadata": {},
   "outputs": [],
   "source": [
    "# Average monthly usage\n",
    "\n",
    "df['calls_per_month'] = df['calls_made'] / (df['tenure_months'] + 1)\n",
    "df['sms_per_month'] = df['sms_sent'] / (df['tenure_months'] + 1)\n",
    "df['data_per_month'] = df['data_used'] / (df['tenure_months'] + 1)"
   ]
  },
  {
   "cell_type": "code",
   "execution_count": 97,
   "id": "a58ba12f-219b-4f96-a29e-2ecf0e33005f",
   "metadata": {},
   "outputs": [],
   "source": [
    "df['data_usage_group'] = pd.cut(\n",
    "    df['data_per_month'],\n",
    "    bins=[-0.01, 0.005, 0.015, 0.03, 0.04],\n",
    "    labels=['Very Low', 'Low', 'Moderate', 'High']\n",
    ")"
   ]
  },
  {
   "cell_type": "code",
   "execution_count": 98,
   "id": "6565cea8-413c-4e94-a8f4-0b1d83eadd32",
   "metadata": {},
   "outputs": [],
   "source": [
    "df['calls_usage_group'] = pd.cut(\n",
    "    df['calls_made'],\n",
    "    bins=[-1, 20, 40, 60, 80, df['calls_made'].max()],\n",
    "    labels=['Very Low', 'Low', 'Moderate', 'High', 'Very High']\n",
    ")\n"
   ]
  },
  {
   "cell_type": "code",
   "execution_count": 99,
   "id": "1b3eca09-e8a6-452e-a3ef-813511fbf5a4",
   "metadata": {},
   "outputs": [
    {
     "data": {
      "text/plain": [
       "count    243553.000000\n",
       "mean         23.945404\n",
       "std          14.733575\n",
       "min          -5.000000\n",
       "25%          11.000000\n",
       "50%          24.000000\n",
       "75%          36.000000\n",
       "max          53.000000\n",
       "Name: sms_sent, dtype: float64"
      ]
     },
     "execution_count": 99,
     "metadata": {},
     "output_type": "execute_result"
    }
   ],
   "source": [
    "df['sms_sent'].describe()"
   ]
  },
  {
   "cell_type": "code",
   "execution_count": 100,
   "id": "f4a624b1-402f-486f-a1be-9b2f0df46d7d",
   "metadata": {},
   "outputs": [],
   "source": [
    "df['sms_usage_group'] = pd.cut(\n",
    "    df['sms_sent'],\n",
    "    bins=[-1, 10, 20, 30, 40, df['sms_sent'].max()],\n",
    "    labels=['Very Low', 'Low', 'Moderate', 'High', 'Very High']\n",
    ")"
   ]
  },
  {
   "cell_type": "code",
   "execution_count": 101,
   "id": "bcd7f450-8f88-47a0-afc3-5769151052f5",
   "metadata": {},
   "outputs": [
    {
     "name": "stderr",
     "output_type": "stream",
     "text": [
      "C:\\Users\\new\\AppData\\Local\\Temp\\ipykernel_13444\\2845076195.py:6: FutureWarning: \n",
      "\n",
      "Passing `palette` without assigning `hue` is deprecated and will be removed in v0.14.0. Assign the `x` variable to `hue` and set `legend=False` for the same effect.\n",
      "\n",
      "  sns.barplot(x='sms_usage_group', y='churn', data=df, estimator=np.mean, palette='Purples')\n"
     ]
    },
    {
     "data": {
      "image/png": "[encoded data removed]",
      "text/plain": [
       "<Figure size 640x480 with 1 Axes>"
      ]
     },
     "metadata": {},
     "output_type": "display_data"
    }
   ],
   "source": [
    "# Churn trend by sms messages\n",
    "\n",
    "import seaborn as sns\n",
    "import matplotlib.pyplot as plt\n",
    "\n",
    "sns.barplot(x='sms_usage_group', y='churn', data=df, estimator=np.mean, palette='Purples')\n",
    "plt.title('Churn Rate by SMS Usage Group')\n",
    "plt.ylabel('Churn Rate')\n",
    "plt.xlabel('SMS Usage Group')\n",
    "plt.show()\n",
    "\n",
    "# NO clear indication"
   ]
  },
  {
   "cell_type": "code",
   "execution_count": 102,
   "id": "d2299e1e-47b6-4976-bf16-66ee3b0108f1",
   "metadata": {},
   "outputs": [],
   "source": [
    "# Replace negative calls with 0\n",
    "df['calls_made'] = df['calls_made'].apply(lambda x: max(x, 0))\n",
    "\n",
    "# Define bins and labels\n",
    "call_bins = [-1, 10, 30, 60, 90, df['calls_made'].max()]\n",
    "call_labels = ['Very Low', 'Low', 'Moderate', 'High', 'Very High']\n",
    "\n",
    "# Create the usage group column\n",
    "df['calls_usage_group'] = pd.cut(df['calls_made'], bins=call_bins, labels=call_labels)"
   ]
  },
  {
   "cell_type": "code",
   "execution_count": 103,
   "id": "5a8ed212-7081-4a6e-bb8c-f143377ad395",
   "metadata": {},
   "outputs": [
    {
     "data": {
      "image/png": "[encoded data removed]",
      "text/plain": [
       "<Figure size 800x500 with 1 Axes>"
      ]
     },
     "metadata": {},
     "output_type": "display_data"
    }
   ],
   "source": [
    "plt.figure(figsize=(8, 5))\n",
    "sns.barplot(\n",
    "    x='calls_usage_group',\n",
    "    y='churn',\n",
    "    data=df,\n",
    "    hue='calls_usage_group',   # Assign hue to match x\n",
    "    estimator=np.mean,\n",
    "    palette='Blues',\n",
    "    legend=False               # Hide redundant legend\n",
    ")\n",
    "plt.title('Churn Rate by Calls Usage Group')\n",
    "plt.ylabel('Churn Rate')\n",
    "plt.xlabel('Calls Usage Group')\n",
    "plt.show()"
   ]
  },
  {
   "cell_type": "code",
   "execution_count": 104,
   "id": "957dbc01-80f1-4df7-89b7-5026d9a420b6",
   "metadata": {},
   "outputs": [
    {
     "data": {
      "text/plain": [
       "['customer_id',\n",
       " 'gender',\n",
       " 'age',\n",
       " 'pincode',\n",
       " 'num_dependents',\n",
       " 'estimated_salary',\n",
       " 'calls_made',\n",
       " 'sms_sent',\n",
       " 'data_used',\n",
       " 'churn',\n",
       " 'telecom_partner_BSNL',\n",
       " 'telecom_partner_Reliance Jio',\n",
       " 'telecom_partner_Vodafone',\n",
       " 'Registration_year',\n",
       " 'Registration_month',\n",
       " 'state_Arunachal Pradesh',\n",
       " 'state_Assam',\n",
       " 'state_Bihar',\n",
       " 'state_Chhattisgarh',\n",
       " 'state_Goa',\n",
       " 'state_Gujarat',\n",
       " 'state_Haryana',\n",
       " 'state_Himachal Pradesh',\n",
       " 'state_Jharkhand',\n",
       " 'state_Karnataka',\n",
       " 'state_Kerala',\n",
       " 'state_Madhya Pradesh',\n",
       " 'state_Maharashtra',\n",
       " 'state_Manipur',\n",
       " 'state_Meghalaya',\n",
       " 'state_Mizoram',\n",
       " 'state_Nagaland',\n",
       " 'state_Odisha',\n",
       " 'state_Punjab',\n",
       " 'state_Rajasthan',\n",
       " 'state_Sikkim',\n",
       " 'state_Tamil Nadu',\n",
       " 'state_Telangana',\n",
       " 'state_Tripura',\n",
       " 'state_Uttar Pradesh',\n",
       " 'state_Uttarakhand',\n",
       " 'state_West Bengal',\n",
       " 'city_Chennai',\n",
       " 'city_Delhi',\n",
       " 'city_Hyderabad',\n",
       " 'city_Kolkata',\n",
       " 'city_Mumbai',\n",
       " 'telecom_partner',\n",
       " 'actual_age',\n",
       " 'age_group',\n",
       " 'state',\n",
       " 'salary_band',\n",
       " 'tenure_months',\n",
       " 'low_usage',\n",
       " 'dependents_ratio',\n",
       " 'high_dependents_ratio',\n",
       " 'calls_per_month',\n",
       " 'sms_per_month',\n",
       " 'data_per_month',\n",
       " 'data_usage_group',\n",
       " 'calls_usage_group',\n",
       " 'sms_usage_group']"
      ]
     },
     "execution_count": 104,
     "metadata": {},
     "output_type": "execute_result"
    }
   ],
   "source": [
    "df.columns.tolist()"
   ]
  },
  {
   "cell_type": "code",
   "execution_count": 105,
   "id": "d787caa6-2fe0-4274-b0a9-1ed48254a1d7",
   "metadata": {},
   "outputs": [
    {
     "name": "stderr",
     "output_type": "stream",
     "text": [
      "C:\\Users\\new\\AppData\\Local\\Temp\\ipykernel_13444\\2698853263.py:1: FutureWarning: \n",
      "\n",
      "Passing `palette` without assigning `hue` is deprecated and will be removed in v0.14.0. Assign the `x` variable to `hue` and set `legend=False` for the same effect.\n",
      "\n",
      "  sns.barplot(x='data_usage_group', y='churn', data=df, estimator=np.mean, palette='Set2')\n"
     ]
    },
    {
     "data": {
      "image/png": "[encoded data removed]",
      "text/plain": [
       "<Figure size 640x480 with 1 Axes>"
      ]
     },
     "metadata": {},
     "output_type": "display_data"
    }
   ],
   "source": [
    "sns.barplot(x='data_usage_group', y='churn', data=df, estimator=np.mean, palette='Set2')\n",
    "plt.title('Churn Rate by Data Usage Group')\n",
    "plt.ylabel('Churn Rate')\n",
    "plt.xlabel('Data Usage Group')\n",
    "plt.show()\n",
    "\n",
    "# Data usage does not have a strong correlation with churn in this dataset."
   ]
  },
  {
   "cell_type": "code",
   "execution_count": 106,
   "id": "074bc422-51e7-469a-a9bc-6adab20d4def",
   "metadata": {},
   "outputs": [
    {
     "data": {
      "text/plain": [
       "<Axes: xlabel='calls_usage_group', ylabel='churn'>"
      ]
     },
     "execution_count": 106,
     "metadata": {},
     "output_type": "execute_result"
    },
    {
     "data": {
      "image/png": "[encoded data removed]",
      "text/plain": [
       "<Figure size 640x480 with 1 Axes>"
      ]
     },
     "metadata": {},
     "output_type": "display_data"
    }
   ],
   "source": [
    "sns.barplot(\n",
    "    x='calls_usage_group',\n",
    "    y='churn',\n",
    "    hue='calls_usage_group',     \n",
    "    data=df,\n",
    "    estimator=np.mean,\n",
    "    palette='Blues',\n",
    "    legend=False,               \n",
    "    errorbar='ci'\n",
    ")"
   ]
  },
  {
   "cell_type": "code",
   "execution_count": 107,
   "id": "22c4f53e-cf77-4773-9bbd-de335d070d23",
   "metadata": {},
   "outputs": [],
   "source": [
    "# Call usage alone does not appear to be a strong predictor of customer churn.\n",
    "# We may need to combine this feature with others (like data usage, tenure, or partner type) for better insights."
   ]
  },
  {
   "cell_type": "code",
   "execution_count": 108,
   "id": "d759847a-dcec-4513-8b07-b9b1d4d08ae0",
   "metadata": {},
   "outputs": [
    {
     "data": {
      "image/png": "[encoded data removed]",
      "text/plain": [
       "<Figure size 1000x600 with 1 Axes>"
      ]
     },
     "metadata": {},
     "output_type": "display_data"
    }
   ],
   "source": [
    "plt.figure(figsize=(10, 6))\n",
    "sns.barplot(\n",
    "    x='calls_usage_group',\n",
    "    y='churn',\n",
    "    hue='telecom_partner',\n",
    "    data=df,\n",
    "    estimator=np.mean,\n",
    "    palette='pastel'\n",
    ")\n",
    "\n",
    "plt.title('Churn Rate by Call Usage Group and Telecom Partner')\n",
    "plt.ylabel('Churn Rate')\n",
    "plt.xlabel('Calls Usage Group')\n",
    "plt.legend(title='Telecom Partner')\n",
    "plt.tight_layout()\n",
    "plt.show()\n"
   ]
  },
  {
   "cell_type": "code",
   "execution_count": 109,
   "id": "a61d6e46-63b0-40a0-beab-630649358007",
   "metadata": {},
   "outputs": [],
   "source": [
    "# Call usage alone is not a major churn factor. However, among heavy callers, Airtel shows higher churn than competitors. \n",
    "# BSNL appears to retain such users better, possibly due to competitive pricing or legacy trust."
   ]
  },
  {
   "cell_type": "code",
   "execution_count": 110,
   "id": "a35f7de3-25b1-44de-845b-a8cb4be0d6b2",
   "metadata": {},
   "outputs": [
    {
     "name": "stderr",
     "output_type": "stream",
     "text": [
      "C:\\Users\\new\\AppData\\Local\\Temp\\ipykernel_13444\\277815363.py:2: FutureWarning: \n",
      "\n",
      "The `ci` parameter is deprecated. Use `errorbar='sd'` for the same effect.\n",
      "\n",
      "  sns.barplot(\n"
     ]
    },
    {
     "data": {
      "image/png": "[encoded data removed]",
      "text/plain": [
       "<Figure size 1200x600 with 1 Axes>"
      ]
     },
     "metadata": {},
     "output_type": "display_data"
    }
   ],
   "source": [
    "plt.figure(figsize=(12, 6))\n",
    "sns.barplot(\n",
    "    data=df, \n",
    "    x='data_usage_group', \n",
    "    y='churn', \n",
    "    hue='telecom_partner', \n",
    "    ci='sd'\n",
    ")\n",
    "plt.title('Churn Rate by Data Usage Group and Telecom Partner')\n",
    "plt.xlabel('Data Usage Group')\n",
    "plt.ylabel('Churn Rate')\n",
    "plt.legend(title='Telecom Partner')\n",
    "plt.show()"
   ]
  },
  {
   "cell_type": "code",
   "execution_count": 111,
   "id": "30d10077-f07d-4384-b2ff-c933b40a444d",
   "metadata": {},
   "outputs": [
    {
     "name": "stdout",
     "output_type": "stream",
     "text": [
      "Index(['customer_id', 'gender', 'age', 'pincode', 'num_dependents',\n",
      "       'estimated_salary', 'calls_made', 'sms_sent', 'data_used', 'churn',\n",
      "       'telecom_partner_BSNL', 'telecom_partner_Reliance Jio',\n",
      "       'telecom_partner_Vodafone', 'Registration_year', 'Registration_month',\n",
      "       'state_Arunachal Pradesh', 'state_Assam', 'state_Bihar',\n",
      "       'state_Chhattisgarh', 'state_Goa', 'state_Gujarat', 'state_Haryana',\n",
      "       'state_Himachal Pradesh', 'state_Jharkhand', 'state_Karnataka',\n",
      "       'state_Kerala', 'state_Madhya Pradesh', 'state_Maharashtra',\n",
      "       'state_Manipur', 'state_Meghalaya', 'state_Mizoram', 'state_Nagaland',\n",
      "       'state_Odisha', 'state_Punjab', 'state_Rajasthan', 'state_Sikkim',\n",
      "       'state_Tamil Nadu', 'state_Telangana', 'state_Tripura',\n",
      "       'state_Uttar Pradesh', 'state_Uttarakhand', 'state_West Bengal',\n",
      "       'city_Chennai', 'city_Delhi', 'city_Hyderabad', 'city_Kolkata',\n",
      "       'city_Mumbai', 'telecom_partner', 'actual_age', 'age_group', 'state',\n",
      "       'salary_band', 'tenure_months', 'low_usage', 'dependents_ratio',\n",
      "       'high_dependents_ratio', 'calls_per_month', 'sms_per_month',\n",
      "       'data_per_month', 'data_usage_group', 'calls_usage_group',\n",
      "       'sms_usage_group'],\n",
      "      dtype='object')\n"
     ]
    }
   ],
   "source": [
    "# Replace df with the actual name of your cleaned DataFrame\n",
    "print(df.columns)"
   ]
  },
  {
   "cell_type": "code",
   "execution_count": 112,
   "id": "1775ad21-009e-4cc8-83cd-022f663a0004",
   "metadata": {},
   "outputs": [],
   "source": [
    "df['avg_monthly_recharges'] = ((df['calls_per_month'] > 0).astype(int) + \n",
    "                                (df['sms_per_month'] > 0).astype(int) + \n",
    "                                (df['data_per_month'] > 0).astype(int))\n"
   ]
  },
  {
   "cell_type": "code",
   "execution_count": 113,
   "id": "1c312c25-143f-4b71-a188-0a4e9237498a",
   "metadata": {},
   "outputs": [],
   "source": [
    "conditions = [\n",
    "    (df['avg_monthly_recharges'] == 0),\n",
    "    (df['avg_monthly_recharges'] == 1),\n",
    "    (df['avg_monthly_recharges'] == 2),\n",
    "    (df['avg_monthly_recharges'] == 3)\n",
    "]\n",
    "\n",
    "choices = ['no_usage', 'low_usage', 'medium_usage', 'high_usage']\n",
    "\n",
    "df['recharge_freq_group'] = np.select(conditions, choices)"
   ]
  },
  {
   "cell_type": "code",
   "execution_count": 114,
   "id": "c3e74e0a-ba9f-4940-ab78-e0a1cd1b4480",
   "metadata": {},
   "outputs": [
    {
     "name": "stderr",
     "output_type": "stream",
     "text": [
      "C:\\Users\\new\\AppData\\Local\\Temp\\ipykernel_13444\\3152212846.py:2: FutureWarning: \n",
      "\n",
      "Passing `palette` without assigning `hue` is deprecated and will be removed in v0.14.0. Assign the `x` variable to `hue` and set `legend=False` for the same effect.\n",
      "\n",
      "  sns.barplot(\n"
     ]
    },
    {
     "data": {
      "image/png": "[encoded data removed]",
      "text/plain": [
       "<Figure size 800x500 with 1 Axes>"
      ]
     },
     "metadata": {},
     "output_type": "display_data"
    }
   ],
   "source": [
    "plt.figure(figsize=(8, 5))\n",
    "sns.barplot(\n",
    "    x='recharge_freq_group',\n",
    "    y='churn',\n",
    "    data=df,\n",
    "    estimator=np.mean,\n",
    "    palette='Oranges'\n",
    ")\n",
    "plt.title('Churn Rate by Recharge Frequency Group')\n",
    "plt.xlabel('Recharge Frequency Group')\n",
    "plt.ylabel('Churn Rate')\n",
    "plt.ylim(0, 1)\n",
    "plt.grid(axis='y', linestyle='--', alpha=0.7)\n",
    "plt.show()"
   ]
  },
  {
   "cell_type": "code",
   "execution_count": 115,
   "id": "ce1aa537-7b56-4b1b-8e85-3623daa86134",
   "metadata": {},
   "outputs": [],
   "source": [
    "#  Higher recharge frequency is associated with lower churn.\n",
    "#This implies customers who recharge more regularly are more loyal, possibly due to higher engagement or satisfaction."
   ]
  },
  {
   "cell_type": "code",
   "execution_count": 116,
   "id": "4f3ea914-4200-4ccc-81ba-c4c08d71a7f7",
   "metadata": {},
   "outputs": [
    {
     "data": {
      "image/png": "[encoded data removed]",
      "text/plain": [
       "<Figure size 640x480 with 1 Axes>"
      ]
     },
     "metadata": {},
     "output_type": "display_data"
    }
   ],
   "source": [
    "# Create tenure group\n",
    "df['tenure_group'] = df['tenure_months'].apply(lambda x: 'New' if x <= 12 else 'Long-Term')\n",
    "\n",
    "# Plot churn rate by tenure group\n",
    "sns.barplot(data=df, x='tenure_group', y='churn')\n",
    "plt.title('Churn Rate by Tenure Group')\n",
    "plt.xlabel('Tenure Group')\n",
    "plt.ylabel('Churn Rate')\n",
    "plt.ylim(0, 1)\n",
    "plt.show()"
   ]
  },
  {
   "cell_type": "code",
   "execution_count": 117,
   "id": "d4aa1a26-f242-4476-87ab-8f7231f8708f",
   "metadata": {},
   "outputs": [],
   "source": [
    "# Only Long-Term customers are present in dataset (no \"New\" customers with tenure ≤ 12 months).\n",
    "# Churn Rate for Long-Term customers is ~20%.\n",
    "# Since there's no comparison group, this feature doesn’t help much for segmentation or predictive modeling."
   ]
  },
  {
   "cell_type": "code",
   "execution_count": 118,
   "id": "2c6cf0a1-91ec-4094-9171-34becd333fa1",
   "metadata": {},
   "outputs": [
    {
     "name": "stdout",
     "output_type": "stream",
     "text": [
      "['<25', '45-54', '55+', '25-34', '35-44']\n",
      "Categories (5, object): ['<25' < '25-34' < '35-44' < '45-54' < '55+']\n"
     ]
    },
    {
     "data": {
      "image/png": "[encoded data removed]",
      "text/plain": [
       "<Figure size 640x480 with 1 Axes>"
      ]
     },
     "metadata": {},
     "output_type": "display_data"
    }
   ],
   "source": [
    "print(df['age_group'].unique())\n",
    "\n",
    "# Plot churn rate by age group\n",
    "sns.barplot(data=df, x='age_group', y='churn')\n",
    "plt.title('Churn Rate by Age Group')\n",
    "plt.xlabel('Age Group')\n",
    "plt.ylabel('Churn Rate')\n",
    "plt.xticks(rotation=45)\n",
    "plt.ylim(0, 1)\n",
    "plt.show()\n"
   ]
  },
  {
   "cell_type": "code",
   "execution_count": 119,
   "id": "fdaf6b9e-da27-49f6-af8c-517ea5f9c782",
   "metadata": {},
   "outputs": [
    {
     "name": "stdout",
     "output_type": "stream",
     "text": [
      "['Top 20%', 'Lowest 20%', 'Low 20-40%', 'Mid 40-60%', 'High 60-80%']\n",
      "Categories (5, object): ['Lowest 20%' < 'Low 20-40%' < 'Mid 40-60%' < 'High 60-80%' < 'Top 20%']\n"
     ]
    },
    {
     "data": {
      "image/png": "[encoded data removed]",
      "text/plain": [
       "<Figure size 640x480 with 1 Axes>"
      ]
     },
     "metadata": {},
     "output_type": "display_data"
    }
   ],
   "source": [
    "# Check unique salary bands\n",
    "print(df['salary_band'].unique())\n",
    "\n",
    "# Plot churn rate by salary_band\n",
    "sns.barplot(data=df, x='salary_band', y='churn')\n",
    "plt.title('Churn Rate by Salary Band')\n",
    "plt.xlabel('Salary Band')\n",
    "plt.ylabel('Churn Rate')\n",
    "plt.xticks(rotation=45)\n",
    "plt.ylim(0, 1)\n",
    "plt.show()"
   ]
  },
  {
   "cell_type": "code",
   "execution_count": 120,
   "id": "dcea416b-83e6-4a41-940b-9be23df9eb8e",
   "metadata": {},
   "outputs": [
    {
     "data": {
      "image/png": "[encoded data removed]",
      "text/plain": [
       "<Figure size 1800x500 with 3 Axes>"
      ]
     },
     "metadata": {},
     "output_type": "display_data"
    }
   ],
   "source": [
    "fig, axs = plt.subplots(1, 3, figsize=(18, 5))\n",
    "\n",
    "# Data usage\n",
    "sns.barplot(data=df, x='data_usage_group', y='churn', ax=axs[0])\n",
    "axs[0].set_title('Churn Rate by Data Usage')\n",
    "axs[0].set_xlabel('Data Usage Group')\n",
    "axs[0].set_ylabel('Churn Rate')\n",
    "axs[0].set_ylim(0, 1)\n",
    "\n",
    "# Calls usage\n",
    "sns.barplot(data=df, x='calls_usage_group', y='churn', ax=axs[1])\n",
    "axs[1].set_title('Churn Rate by Calls Usage')\n",
    "axs[1].set_xlabel('Calls Usage Group')\n",
    "axs[1].set_ylabel('')\n",
    "axs[1].set_ylim(0, 1)\n",
    "\n",
    "# SMS usage\n",
    "sns.barplot(data=df, x='sms_usage_group', y='churn', ax=axs[2])\n",
    "axs[2].set_title('Churn Rate by SMS Usage')\n",
    "axs[2].set_xlabel('SMS Usage Group')\n",
    "axs[2].set_ylabel('')\n",
    "axs[2].set_ylim(0, 1)\n",
    "\n",
    "plt.tight_layout()\n",
    "plt.show()"
   ]
  },
  {
   "cell_type": "code",
   "execution_count": 121,
   "id": "5466feea-fbd3-45b0-9b9f-03d6776b4369",
   "metadata": {},
   "outputs": [
    {
     "data": {
      "text/plain": [
       "Index(['customer_id', 'gender', 'age', 'pincode', 'num_dependents',\n",
       "       'estimated_salary', 'calls_made', 'sms_sent', 'data_used', 'churn',\n",
       "       'telecom_partner_BSNL', 'telecom_partner_Reliance Jio',\n",
       "       'telecom_partner_Vodafone', 'Registration_year', 'Registration_month',\n",
       "       'state_Arunachal Pradesh', 'state_Assam', 'state_Bihar',\n",
       "       'state_Chhattisgarh', 'state_Goa', 'state_Gujarat', 'state_Haryana',\n",
       "       'state_Himachal Pradesh', 'state_Jharkhand', 'state_Karnataka',\n",
       "       'state_Kerala', 'state_Madhya Pradesh', 'state_Maharashtra',\n",
       "       'state_Manipur', 'state_Meghalaya', 'state_Mizoram', 'state_Nagaland',\n",
       "       'state_Odisha', 'state_Punjab', 'state_Rajasthan', 'state_Sikkim',\n",
       "       'state_Tamil Nadu', 'state_Telangana', 'state_Tripura',\n",
       "       'state_Uttar Pradesh', 'state_Uttarakhand', 'state_West Bengal',\n",
       "       'city_Chennai', 'city_Delhi', 'city_Hyderabad', 'city_Kolkata',\n",
       "       'city_Mumbai', 'telecom_partner', 'actual_age', 'age_group', 'state',\n",
       "       'salary_band', 'tenure_months', 'low_usage', 'dependents_ratio',\n",
       "       'high_dependents_ratio', 'calls_per_month', 'sms_per_month',\n",
       "       'data_per_month', 'data_usage_group', 'calls_usage_group',\n",
       "       'sms_usage_group', 'avg_monthly_recharges', 'recharge_freq_group',\n",
       "       'tenure_group'],\n",
       "      dtype='object')"
      ]
     },
     "execution_count": 121,
     "metadata": {},
     "output_type": "execute_result"
    }
   ],
   "source": [
    "df.columns"
   ]
  },
  {
   "cell_type": "code",
   "execution_count": 180,
   "id": "54b28e4b-6072-4fce-a348-81e2a3d06aca",
   "metadata": {},
   "outputs": [],
   "source": [
    "from sklearn.model_selection import train_test_split\n",
    "from sklearn.compose import ColumnTransformer\n",
    "from sklearn.preprocessing import StandardScaler, OneHotEncoder\n",
    "from sklearn.impute import SimpleImputer\n",
    "from sklearn.pipeline import Pipeline as SKPipeline\n",
    "from imblearn.pipeline import Pipeline\n",
    "from imblearn.over_sampling import SMOTE\n",
    "from sklearn.ensemble import RandomForestClassifier\n",
    "from sklearn.metrics import classification_report, accuracy_score, confusion_matrix\n",
    "import seaborn as sns\n",
    "import matplotlib.pyplot as plt"
   ]
  },
  {
   "cell_type": "code",
   "execution_count": 182,
   "id": "57dacf5d-a69e-4cba-8391-ac9a71a93d80",
   "metadata": {},
   "outputs": [],
   "source": [
    "numeric_features = [\n",
    "    'age', 'estimated_salary', 'calls_made', 'sms_sent', 'data_used',\n",
    "    'Registration_year', 'Registration_month', 'tenure_months',\n",
    "    'num_dependents', 'dependents_ratio', 'calls_per_month',\n",
    "    'sms_per_month', 'data_per_month', 'avg_monthly_recharges'\n",
    "]\n",
    "categorical_features = [\n",
    "    'gender',\n",
    "    'telecom_partner_BSNL', 'telecom_partner_Reliance Jio', 'telecom_partner_Vodafone',\n",
    "    'state_Arunachal Pradesh', 'state_Assam', 'state_Bihar',\n",
    "    'state_Chhattisgarh', 'state_Goa', 'state_Gujarat', 'state_Haryana',\n",
    "    'state_Himachal Pradesh', 'state_Jharkhand', 'state_Karnataka',\n",
    "    'state_Kerala', 'state_Madhya Pradesh', 'state_Maharashtra',\n",
    "    'state_Manipur', 'state_Meghalaya', 'state_Mizoram', 'state_Nagaland',\n",
    "    'state_Odisha', 'state_Punjab', 'state_Rajasthan', 'state_Sikkim',\n",
    "    'state_Tamil Nadu', 'state_Telangana', 'state_Tripura',\n",
    "    'state_Uttar Pradesh', 'state_Uttarakhand', 'state_West Bengal',\n",
    "    'city_Chennai', 'city_Delhi', 'city_Hyderabad', 'city_Kolkata',\n",
    "    'city_Mumbai'\n",
    "]\n",
    "\n",
    "target_column = 'churn'"
   ]
  },
  {
   "cell_type": "code",
   "execution_count": 184,
   "id": "8a631274-e856-4b29-be80-2692522c36b6",
   "metadata": {},
   "outputs": [
    {
     "name": "stdout",
     "output_type": "stream",
     "text": [
      "Before split: churn\n",
      "0    194726\n",
      "1     48827\n",
      "Name: count, dtype: int64\n",
      "Train class distribution:\n",
      " churn\n",
      "0    146044\n",
      "1     36620\n",
      "Name: count, dtype: int64\n"
     ]
    }
   ],
   "source": [
    "# Load your DataFrame `df` first before this\n",
    "X = df[numeric_features + categorical_features]\n",
    "y = df[target_column]\n",
    "\n",
    "# Check original class distribution\n",
    "print(\"Before split:\", y.value_counts())\n",
    "\n",
    "# Split the data\n",
    "X_train, X_test, y_train, y_test = train_test_split(X, y, stratify=y, test_size=0.25, random_state=42)\n",
    "\n",
    "# Check class balance in train set\n",
    "print(\"Train class distribution:\\n\", y_train.value_counts())"
   ]
  },
  {
   "cell_type": "code",
   "execution_count": 186,
   "id": "05f1cb4b-b04f-47a4-b15f-53eb363e9ea7",
   "metadata": {},
   "outputs": [],
   "source": [
    "# Preprocessing for numeric data\n",
    "numeric_transformer = SKPipeline(steps=[\n",
    "    ('imputer', SimpleImputer(strategy='median')),\n",
    "    ('scaler', StandardScaler())\n",
    "])"
   ]
  },
  {
   "cell_type": "code",
   "execution_count": 188,
   "id": "a8ce348d-4a0f-4dd9-b1b0-e8ae06ac163e",
   "metadata": {},
   "outputs": [],
   "source": [
    "# Preprocessing for categorical data\n",
    "categorical_transformer = SKPipeline(steps=[\n",
    "    ('imputer', SimpleImputer(strategy='most_frequent')),\n",
    "    ('onehot', OneHotEncoder(handle_unknown='ignore'))\n",
    "])"
   ]
  },
  {
   "cell_type": "code",
   "execution_count": 190,
   "id": "9c1f50f1-c80b-4c6e-877c-185fb63a749a",
   "metadata": {},
   "outputs": [],
   "source": [
    "# Combine preprocessing\n",
    "preprocessor = ColumnTransformer(transformers=[\n",
    "    ('num', numeric_transformer, numeric_features),\n",
    "    ('cat', categorical_transformer, categorical_features)\n",
    "])"
   ]
  },
  {
   "cell_type": "code",
   "execution_count": 193,
   "id": "8f175133-29ea-4166-a2cd-0ccf52330185",
   "metadata": {},
   "outputs": [],
   "source": [
    "# Transform X_train only\n",
    "X_train_processed = preprocessor.fit_transform(X_train)\n",
    "X_test_processed = preprocessor.transform(X_test)"
   ]
  },
  {
   "cell_type": "code",
   "execution_count": 195,
   "id": "f97fc8f8-7eb2-4c70-95e8-85c993014679",
   "metadata": {},
   "outputs": [],
   "source": [
    "# Apply SMOTE on training data\n",
    "smote = SMOTE(random_state=42)\n",
    "X_train_resampled, y_train_resampled = smote.fit_resample(X_train_processed, y_train)"
   ]
  },
  {
   "cell_type": "code",
   "execution_count": 197,
   "id": "5e095908-fe2e-4031-be4b-27c7f7c599fa",
   "metadata": {},
   "outputs": [
    {
     "name": "stdout",
     "output_type": "stream",
     "text": [
      "\n",
      "After SMOTE:\n",
      "churn\n",
      "1    146044\n",
      "0    146044\n",
      "Name: count, dtype: int64\n"
     ]
    }
   ],
   "source": [
    "print(\"\\nAfter SMOTE:\")\n",
    "print(y_train_resampled.value_counts())"
   ]
  },
  {
   "cell_type": "code",
   "execution_count": 199,
   "id": "5ef64055-38aa-4f81-a11e-026511978e7d",
   "metadata": {},
   "outputs": [
    {
     "data": {
      "text/html": [
       "<style>#sk-container-id-2 {\n",
       "  /* Definition of color scheme common for light and dark mode */\n",
       "  --sklearn-color-text: black;\n",
       "  --sklearn-color-line: gray;\n",
       "  /* Definition of color scheme for unfitted estimators */\n",
       "  --sklearn-color-unfitted-level-0: #fff5e6;\n",
       "  --sklearn-color-unfitted-level-1: #f6e4d2;\n",
       "  --sklearn-color-unfitted-level-2: #ffe0b3;\n",
       "  --sklearn-color-unfitted-level-3: chocolate;\n",
       "  /* Definition of color scheme for fitted estimators */\n",
       "  --sklearn-color-fitted-level-0: #f0f8ff;\n",
       "  --sklearn-color-fitted-level-1: #d4ebff;\n",
       "  --sklearn-color-fitted-level-2: #b3dbfd;\n",
       "  --sklearn-color-fitted-level-3: cornflowerblue;\n",
       "\n",
       "  /* Specific color for light theme */\n",
       "  --sklearn-color-text-on-default-background: var(--sg-text-color, var(--theme-code-foreground, var(--jp-content-font-color1, black)));\n",
       "  --sklearn-color-background: var(--sg-background-color, var(--theme-background, var(--jp-layout-color0, white)));\n",
       "  --sklearn-color-border-box: var(--sg-text-color, var(--theme-code-foreground, var(--jp-content-font-color1, black)));\n",
       "  --sklearn-color-icon: #696969;\n",
       "\n",
       "  @media (prefers-color-scheme: dark) {\n",
       "    /* Redefinition of color scheme for dark theme */\n",
       "    --sklearn-color-text-on-default-background: var(--sg-text-color, var(--theme-code-foreground, var(--jp-content-font-color1, white)));\n",
       "    --sklearn-color-background: var(--sg-background-color, var(--theme-background, var(--jp-layout-color0, #111)));\n",
       "    --sklearn-color-border-box: var(--sg-text-color, var(--theme-code-foreground, var(--jp-content-font-color1, white)));\n",
       "    --sklearn-color-icon: #878787;\n",
       "  }\n",
       "}\n",
       "\n",
       "#sk-container-id-2 {\n",
       "  color: var(--sklearn-color-text);\n",
       "}\n",
       "\n",
       "#sk-container-id-2 pre {\n",
       "  padding: 0;\n",
       "}\n",
       "\n",
       "#sk-container-id-2 input.sk-hidden--visually {\n",
       "  border: 0;\n",
       "  clip: rect(1px 1px 1px 1px);\n",
       "  clip: rect(1px, 1px, 1px, 1px);\n",
       "  height: 1px;\n",
       "  margin: -1px;\n",
       "  overflow: hidden;\n",
       "  padding: 0;\n",
       "  position: absolute;\n",
       "  width: 1px;\n",
       "}\n",
       "\n",
       "#sk-container-id-2 div.sk-dashed-wrapped {\n",
       "  border: 1px dashed var(--sklearn-color-line);\n",
       "  margin: 0 0.4em 0.5em 0.4em;\n",
       "  box-sizing: border-box;\n",
       "  padding-bottom: 0.4em;\n",
       "  background-color: var(--sklearn-color-background);\n",
       "}\n",
       "\n",
       "#sk-container-id-2 div.sk-container {\n",
       "  /* jupyter's `normalize.less` sets `[hidden] { display: none; }`\n",
       "     but bootstrap.min.css set `[hidden] { display: none !important; }`\n",
       "     so we also need the `!important` here to be able to override the\n",
       "     default hidden behavior on the sphinx rendered scikit-learn.org.\n",
       "     See: https://github.com/scikit-learn/scikit-learn/issues/21755 */\n",
       "  display: inline-block !important;\n",
       "  position: relative;\n",
       "}\n",
       "\n",
       "#sk-container-id-2 div.sk-text-repr-fallback {\n",
       "  display: none;\n",
       "}\n",
       "\n",
       "div.sk-parallel-item,\n",
       "div.sk-serial,\n",
       "div.sk-item {\n",
       "  /* draw centered vertical line to link estimators */\n",
       "  background-image: linear-gradient(var(--sklearn-color-text-on-default-background), var(--sklearn-color-text-on-default-background));\n",
       "  background-size: 2px 100%;\n",
       "  background-repeat: no-repeat;\n",
       "  background-position: center center;\n",
       "}\n",
       "\n",
       "/* Parallel-specific style estimator block */\n",
       "\n",
       "#sk-container-id-2 div.sk-parallel-item::after {\n",
       "  content: \"\";\n",
       "  width: 100%;\n",
       "  border-bottom: 2px solid var(--sklearn-color-text-on-default-background);\n",
       "  flex-grow: 1;\n",
       "}\n",
       "\n",
       "#sk-container-id-2 div.sk-parallel {\n",
       "  display: flex;\n",
       "  align-items: stretch;\n",
       "  justify-content: center;\n",
       "  background-color: var(--sklearn-color-background);\n",
       "  position: relative;\n",
       "}\n",
       "\n",
       "#sk-container-id-2 div.sk-parallel-item {\n",
       "  display: flex;\n",
       "  flex-direction: column;\n",
       "}\n",
       "\n",
       "#sk-container-id-2 div.sk-parallel-item:first-child::after {\n",
       "  align-self: flex-end;\n",
       "  width: 50%;\n",
       "}\n",
       "\n",
       "#sk-container-id-2 div.sk-parallel-item:last-child::after {\n",
       "  align-self: flex-start;\n",
       "  width: 50%;\n",
       "}\n",
       "\n",
       "#sk-container-id-2 div.sk-parallel-item:only-child::after {\n",
       "  width: 0;\n",
       "}\n",
       "\n",
       "/* Serial-specific style estimator block */\n",
       "\n",
       "#sk-container-id-2 div.sk-serial {\n",
       "  display: flex;\n",
       "  flex-direction: column;\n",
       "  align-items: center;\n",
       "  background-color: var(--sklearn-color-background);\n",
       "  padding-right: 1em;\n",
       "  padding-left: 1em;\n",
       "}\n",
       "\n",
       "\n",
       "/* Toggleable style: style used for estimator/Pipeline/ColumnTransformer box that is\n",
       "clickable and can be expanded/collapsed.\n",
       "- Pipeline and ColumnTransformer use this feature and define the default style\n",
       "- Estimators will overwrite some part of the style using the `sk-estimator` class\n",
       "*/\n",
       "\n",
       "/* Pipeline and ColumnTransformer style (default) */\n",
       "\n",
       "#sk-container-id-2 div.sk-toggleable {\n",
       "  /* Default theme specific background. It is overwritten whether we have a\n",
       "  specific estimator or a Pipeline/ColumnTransformer */\n",
       "  background-color: var(--sklearn-color-background);\n",
       "}\n",
       "\n",
       "/* Toggleable label */\n",
       "#sk-container-id-2 label.sk-toggleable__label {\n",
       "  cursor: pointer;\n",
       "  display: block;\n",
       "  width: 100%;\n",
       "  margin-bottom: 0;\n",
       "  padding: 0.5em;\n",
       "  box-sizing: border-box;\n",
       "  text-align: center;\n",
       "}\n",
       "\n",
       "#sk-container-id-2 label.sk-toggleable__label-arrow:before {\n",
       "  /* Arrow on the left of the label */\n",
       "  content: \"▸\";\n",
       "  float: left;\n",
       "  margin-right: 0.25em;\n",
       "  color: var(--sklearn-color-icon);\n",
       "}\n",
       "\n",
       "#sk-container-id-2 label.sk-toggleable__label-arrow:hover:before {\n",
       "  color: var(--sklearn-color-text);\n",
       "}\n",
       "\n",
       "/* Toggleable content - dropdown */\n",
       "\n",
       "#sk-container-id-2 div.sk-toggleable__content {\n",
       "  max-height: 0;\n",
       "  max-width: 0;\n",
       "  overflow: hidden;\n",
       "  text-align: left;\n",
       "  /* unfitted */\n",
       "  background-color: var(--sklearn-color-unfitted-level-0);\n",
       "}\n",
       "\n",
       "#sk-container-id-2 div.sk-toggleable__content.fitted {\n",
       "  /* fitted */\n",
       "  background-color: var(--sklearn-color-fitted-level-0);\n",
       "}\n",
       "\n",
       "#sk-container-id-2 div.sk-toggleable__content pre {\n",
       "  margin: 0.2em;\n",
       "  border-radius: 0.25em;\n",
       "  color: var(--sklearn-color-text);\n",
       "  /* unfitted */\n",
       "  background-color: var(--sklearn-color-unfitted-level-0);\n",
       "}\n",
       "\n",
       "#sk-container-id-2 div.sk-toggleable__content.fitted pre {\n",
       "  /* unfitted */\n",
       "  background-color: var(--sklearn-color-fitted-level-0);\n",
       "}\n",
       "\n",
       "#sk-container-id-2 input.sk-toggleable__control:checked~div.sk-toggleable__content {\n",
       "  /* Expand drop-down */\n",
       "  max-height: 200px;\n",
       "  max-width: 100%;\n",
       "  overflow: auto;\n",
       "}\n",
       "\n",
       "#sk-container-id-2 input.sk-toggleable__control:checked~label.sk-toggleable__label-arrow:before {\n",
       "  content: \"▾\";\n",
       "}\n",
       "\n",
       "/* Pipeline/ColumnTransformer-specific style */\n",
       "\n",
       "#sk-container-id-2 div.sk-label input.sk-toggleable__control:checked~label.sk-toggleable__label {\n",
       "  color: var(--sklearn-color-text);\n",
       "  background-color: var(--sklearn-color-unfitted-level-2);\n",
       "}\n",
       "\n",
       "#sk-container-id-2 div.sk-label.fitted input.sk-toggleable__control:checked~label.sk-toggleable__label {\n",
       "  background-color: var(--sklearn-color-fitted-level-2);\n",
       "}\n",
       "\n",
       "/* Estimator-specific style */\n",
       "\n",
       "/* Colorize estimator box */\n",
       "#sk-container-id-2 div.sk-estimator input.sk-toggleable__control:checked~label.sk-toggleable__label {\n",
       "  /* unfitted */\n",
       "  background-color: var(--sklearn-color-unfitted-level-2);\n",
       "}\n",
       "\n",
       "#sk-container-id-2 div.sk-estimator.fitted input.sk-toggleable__control:checked~label.sk-toggleable__label {\n",
       "  /* fitted */\n",
       "  background-color: var(--sklearn-color-fitted-level-2);\n",
       "}\n",
       "\n",
       "#sk-container-id-2 div.sk-label label.sk-toggleable__label,\n",
       "#sk-container-id-2 div.sk-label label {\n",
       "  /* The background is the default theme color */\n",
       "  color: var(--sklearn-color-text-on-default-background);\n",
       "}\n",
       "\n",
       "/* On hover, darken the color of the background */\n",
       "#sk-container-id-2 div.sk-label:hover label.sk-toggleable__label {\n",
       "  color: var(--sklearn-color-text);\n",
       "  background-color: var(--sklearn-color-unfitted-level-2);\n",
       "}\n",
       "\n",
       "/* Label box, darken color on hover, fitted */\n",
       "#sk-container-id-2 div.sk-label.fitted:hover label.sk-toggleable__label.fitted {\n",
       "  color: var(--sklearn-color-text);\n",
       "  background-color: var(--sklearn-color-fitted-level-2);\n",
       "}\n",
       "\n",
       "/* Estimator label */\n",
       "\n",
       "#sk-container-id-2 div.sk-label label {\n",
       "  font-family: monospace;\n",
       "  font-weight: bold;\n",
       "  display: inline-block;\n",
       "  line-height: 1.2em;\n",
       "}\n",
       "\n",
       "#sk-container-id-2 div.sk-label-container {\n",
       "  text-align: center;\n",
       "}\n",
       "\n",
       "/* Estimator-specific */\n",
       "#sk-container-id-2 div.sk-estimator {\n",
       "  font-family: monospace;\n",
       "  border: 1px dotted var(--sklearn-color-border-box);\n",
       "  border-radius: 0.25em;\n",
       "  box-sizing: border-box;\n",
       "  margin-bottom: 0.5em;\n",
       "  /* unfitted */\n",
       "  background-color: var(--sklearn-color-unfitted-level-0);\n",
       "}\n",
       "\n",
       "#sk-container-id-2 div.sk-estimator.fitted {\n",
       "  /* fitted */\n",
       "  background-color: var(--sklearn-color-fitted-level-0);\n",
       "}\n",
       "\n",
       "/* on hover */\n",
       "#sk-container-id-2 div.sk-estimator:hover {\n",
       "  /* unfitted */\n",
       "  background-color: var(--sklearn-color-unfitted-level-2);\n",
       "}\n",
       "\n",
       "#sk-container-id-2 div.sk-estimator.fitted:hover {\n",
       "  /* fitted */\n",
       "  background-color: var(--sklearn-color-fitted-level-2);\n",
       "}\n",
       "\n",
       "/* Specification for estimator info (e.g. \"i\" and \"?\") */\n",
       "\n",
       "/* Common style for \"i\" and \"?\" */\n",
       "\n",
       ".sk-estimator-doc-link,\n",
       "a:link.sk-estimator-doc-link,\n",
       "a:visited.sk-estimator-doc-link {\n",
       "  float: right;\n",
       "  font-size: smaller;\n",
       "  line-height: 1em;\n",
       "  font-family: monospace;\n",
       "  background-color: var(--sklearn-color-background);\n",
       "  border-radius: 1em;\n",
       "  height: 1em;\n",
       "  width: 1em;\n",
       "  text-decoration: none !important;\n",
       "  margin-left: 1ex;\n",
       "  /* unfitted */\n",
       "  border: var(--sklearn-color-unfitted-level-1) 1pt solid;\n",
       "  color: var(--sklearn-color-unfitted-level-1);\n",
       "}\n",
       "\n",
       ".sk-estimator-doc-link.fitted,\n",
       "a:link.sk-estimator-doc-link.fitted,\n",
       "a:visited.sk-estimator-doc-link.fitted {\n",
       "  /* fitted */\n",
       "  border: var(--sklearn-color-fitted-level-1) 1pt solid;\n",
       "  color: var(--sklearn-color-fitted-level-1);\n",
       "}\n",
       "\n",
       "/* On hover */\n",
       "div.sk-estimator:hover .sk-estimator-doc-link:hover,\n",
       ".sk-estimator-doc-link:hover,\n",
       "div.sk-label-container:hover .sk-estimator-doc-link:hover,\n",
       ".sk-estimator-doc-link:hover {\n",
       "  /* unfitted */\n",
       "  background-color: var(--sklearn-color-unfitted-level-3);\n",
       "  color: var(--sklearn-color-background);\n",
       "  text-decoration: none;\n",
       "}\n",
       "\n",
       "div.sk-estimator.fitted:hover .sk-estimator-doc-link.fitted:hover,\n",
       ".sk-estimator-doc-link.fitted:hover,\n",
       "div.sk-label-container:hover .sk-estimator-doc-link.fitted:hover,\n",
       ".sk-estimator-doc-link.fitted:hover {\n",
       "  /* fitted */\n",
       "  background-color: var(--sklearn-color-fitted-level-3);\n",
       "  color: var(--sklearn-color-background);\n",
       "  text-decoration: none;\n",
       "}\n",
       "\n",
       "/* Span, style for the box shown on hovering the info icon */\n",
       ".sk-estimator-doc-link span {\n",
       "  display: none;\n",
       "  z-index: 9999;\n",
       "  position: relative;\n",
       "  font-weight: normal;\n",
       "  right: .2ex;\n",
       "  padding: .5ex;\n",
       "  margin: .5ex;\n",
       "  width: min-content;\n",
       "  min-width: 20ex;\n",
       "  max-width: 50ex;\n",
       "  color: var(--sklearn-color-text);\n",
       "  box-shadow: 2pt 2pt 4pt #999;\n",
       "  /* unfitted */\n",
       "  background: var(--sklearn-color-unfitted-level-0);\n",
       "  border: .5pt solid var(--sklearn-color-unfitted-level-3);\n",
       "}\n",
       "\n",
       ".sk-estimator-doc-link.fitted span {\n",
       "  /* fitted */\n",
       "  background: var(--sklearn-color-fitted-level-0);\n",
       "  border: var(--sklearn-color-fitted-level-3);\n",
       "}\n",
       "\n",
       ".sk-estimator-doc-link:hover span {\n",
       "  display: block;\n",
       "}\n",
       "\n",
       "/* \"?\"-specific style due to the `<a>` HTML tag */\n",
       "\n",
       "#sk-container-id-2 a.estimator_doc_link {\n",
       "  float: right;\n",
       "  font-size: 1rem;\n",
       "  line-height: 1em;\n",
       "  font-family: monospace;\n",
       "  background-color: var(--sklearn-color-background);\n",
       "  border-radius: 1rem;\n",
       "  height: 1rem;\n",
       "  width: 1rem;\n",
       "  text-decoration: none;\n",
       "  /* unfitted */\n",
       "  color: var(--sklearn-color-unfitted-level-1);\n",
       "  border: var(--sklearn-color-unfitted-level-1) 1pt solid;\n",
       "}\n",
       "\n",
       "#sk-container-id-2 a.estimator_doc_link.fitted {\n",
       "  /* fitted */\n",
       "  border: var(--sklearn-color-fitted-level-1) 1pt solid;\n",
       "  color: var(--sklearn-color-fitted-level-1);\n",
       "}\n",
       "\n",
       "/* On hover */\n",
       "#sk-container-id-2 a.estimator_doc_link:hover {\n",
       "  /* unfitted */\n",
       "  background-color: var(--sklearn-color-unfitted-level-3);\n",
       "  color: var(--sklearn-color-background);\n",
       "  text-decoration: none;\n",
       "}\n",
       "\n",
       "#sk-container-id-2 a.estimator_doc_link.fitted:hover {\n",
       "  /* fitted */\n",
       "  background-color: var(--sklearn-color-fitted-level-3);\n",
       "}\n",
       "</style><div id=\"sk-container-id-2\" class=\"sk-top-container\"><div class=\"sk-text-repr-fallback\"><pre>RandomForestClassifier(class_weight=&#x27;balanced&#x27;, random_state=42)</pre><b>In a Jupyter environment, please rerun this cell to show the HTML representation or trust the notebook. <br />On GitHub, the HTML representation is unable to render, please try loading this page with nbviewer.org.</b></div><div class=\"sk-container\" hidden><div class=\"sk-item\"><div class=\"sk-estimator fitted sk-toggleable\"><input class=\"sk-toggleable__control sk-hidden--visually\" id=\"sk-estimator-id-2\" type=\"checkbox\" checked><label for=\"sk-estimator-id-2\" class=\"sk-toggleable__label fitted sk-toggleable__label-arrow fitted\">&nbsp;&nbsp;RandomForestClassifier<a class=\"sk-estimator-doc-link fitted\" rel=\"noreferrer\" target=\"_blank\" href=\"https://scikit-learn.org/1.5/modules/generated/sklearn.ensemble.RandomForestClassifier.html\">?<span>Documentation for RandomForestClassifier</span></a><span class=\"sk-estimator-doc-link fitted\">i<span>Fitted</span></span></label><div class=\"sk-toggleable__content fitted\"><pre>RandomForestClassifier(class_weight=&#x27;balanced&#x27;, random_state=42)</pre></div> </div></div></div></div>"
      ],
      "text/plain": [
       "RandomForestClassifier(class_weight='balanced', random_state=42)"
      ]
     },
     "execution_count": 199,
     "metadata": {},
     "output_type": "execute_result"
    }
   ],
   "source": [
    "# Train model\n",
    "model = RandomForestClassifier(class_weight='balanced', random_state=42)\n",
    "model.fit(X_train_resampled, y_train_resampled)"
   ]
  },
  {
   "cell_type": "code",
   "execution_count": 201,
   "id": "a50c713a-072e-49e5-ba04-7b8d8e66843f",
   "metadata": {},
   "outputs": [],
   "source": [
    "# Predict\n",
    "y_pred = model.predict(X_test_processed)"
   ]
  },
  {
   "cell_type": "code",
   "execution_count": 203,
   "id": "92d44c4b-d264-441c-ac73-10f6e7c3eef6",
   "metadata": {},
   "outputs": [
    {
     "name": "stdout",
     "output_type": "stream",
     "text": [
      "\n",
      "Accuracy: 0.7977959894233769\n",
      "\n",
      "Classification Report:\n",
      "               precision    recall  f1-score   support\n",
      "\n",
      "           0       0.80      1.00      0.89     48682\n",
      "           1       0.21      0.00      0.01     12207\n",
      "\n",
      "    accuracy                           0.80     60889\n",
      "   macro avg       0.50      0.50      0.45     60889\n",
      "weighted avg       0.68      0.80      0.71     60889\n",
      "\n"
     ]
    }
   ],
   "source": [
    "# Evaluation\n",
    "print(\"\\nAccuracy:\", accuracy_score(y_test, y_pred))\n",
    "print(\"\\nClassification Report:\\n\", classification_report(y_test, y_pred))"
   ]
  },
  {
   "cell_type": "code",
   "execution_count": 205,
   "id": "ed33d0fc-97c0-42f5-9c9e-a55e87389475",
   "metadata": {},
   "outputs": [
    {
     "data": {
      "image/png": "[encoded data removed]",
      "text/plain": [
       "<Figure size 640x480 with 2 Axes>"
      ]
     },
     "metadata": {},
     "output_type": "display_data"
    }
   ],
   "source": [
    "cm = confusion_matrix(y_test, y_pred)\n",
    "sns.heatmap(cm, annot=True, fmt='d', cmap='Blues')\n",
    "plt.xlabel('Predicted')\n",
    "plt.ylabel('Actual')\n",
    "plt.title('Confusion Matrix')\n",
    "plt.show()"
   ]
  }
 ],
 "metadata": {
  "kernelspec": {
   "display_name": "Python [conda env:base] *",
   "language": "python",
   "name": "conda-base-py"
  },
  "language_info": {
   "codemirror_mode": {
    "name": "ipython",
    "version": 3
   },
   "file_extension": ".py",
   "mimetype": "text/x-python",
   "name": "python",
   "nbconvert_exporter": "python",
   "pygments_lexer": "ipython3",
   "version": "3.12.7"
  }
 },
 "nbformat": 4,
 "nbformat_minor": 5
}
